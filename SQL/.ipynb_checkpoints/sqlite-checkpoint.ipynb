{
 "cells": [
  {
   "cell_type": "code",
   "execution_count": 2,
   "metadata": {},
   "outputs": [
    {
     "name": "stdout",
     "output_type": "stream",
     "text": [
      "2.6.0\n",
      "2. Query all tasks\n",
      "(0, 'Tennis Court 1', 5, 25, 10000, 200)\n",
      "(1, 'Tennis Court 2', 5, 25, 8000, 200)\n",
      "(2, 'Badminton Court', 0, 15.5, 4000, 50)\n",
      "(3, 'Table Tennis', 0, 5, 320, 10)\n",
      "(4, 'Massage Room 1', 9.9, 80, 4000, 3000)\n",
      "(5, 'Massage Room 2', 9.9, 80, 4000, 3000)\n",
      "(6, 'Squash Court', 3.5, 17.5, 5000, 80)\n",
      "(7, 'Snooker Table', 0, 5, 450, 15)\n",
      "(8, 'Pool Table', 0, 5, 400, 15)\n"
     ]
    }
   ],
   "source": [
    "import sqlite3\n",
    "from sqlite3 import Error\n",
    " \n",
    "def create_connection(db_file):\n",
    "    \"\"\" create a database connection to the SQLite database\n",
    "        specified by the db_file\n",
    "    :param db_file: database file\n",
    "    :return: Connection object or None\n",
    "    \"\"\"\n",
    "    conn = None\n",
    "    try:\n",
    "        conn = sqlite3.connect(db_file)\n",
    "        print(sqlite3.version)\n",
    "    except Error as e:\n",
    "        print(e)\n",
    " \n",
    "    return conn\n",
    " \n",
    "def select_all_tasks(conn):\n",
    "    \"\"\"\n",
    "    Query all rows in the tasks table\n",
    "    :param conn: the Connection object\n",
    "    :return:\n",
    "    \"\"\"\n",
    "    cur = conn.cursor()\n",
    "    \n",
    "    query1 = \"\"\"\n",
    "        SELECT *\n",
    "        FROM FACILITIES\n",
    "        \"\"\"\n",
    "    cur.execute(query1)\n",
    " \n",
    "    rows = cur.fetchall()\n",
    " \n",
    "    for row in rows:\n",
    "        print(row)\n",
    "\n",
    "\n",
    "def main():\n",
    "    database = \"sqlite_db_pythonsqlite.db\"\n",
    " \n",
    "    # create a database connection\n",
    "    conn = create_connection(database)\n",
    "    with conn: \n",
    "        print(\"2. Query all tasks\")\n",
    "        select_all_tasks(conn)\n",
    " \n",
    " \n",
    "if __name__ == '__main__':\n",
    "    main()"
   ]
  },
  {
   "cell_type": "markdown",
   "metadata": {},
   "source": [
    "/* Q10: Produce a list of facilities with a total revenue less than 1000.\n",
    "The output of facility name and total revenue, sorted by revenue. Remember\n",
    "that there's a different cost for guests and members! */\n",
    "\n",
    "/* Q11: Produce a report of members and who recommended them in alphabetic surname,firstname order */\n",
    "\n",
    "\n",
    "/* Q12: Find the facilities with their usage by member, but not guests */\n",
    "\n",
    "\n",
    "/* Q13: Find the facilities usage by month, but not guests */\n"
   ]
  },
  {
   "cell_type": "code",
   "execution_count": 138,
   "metadata": {},
   "outputs": [],
   "source": [
    "conn = sqlite3.connect(\"sqlite_db_pythonsqlite.db\")\n",
    "cur = conn.cursor()\n",
    "    \n",
    "query1 = \"\"\"\n",
    "        SELECT *\n",
    "        FROM FACILITIES\n",
    "        \"\"\"\n",
    "cur.execute(query1)\n",
    " \n",
    "rows = cur.fetchall()\n",
    " \n",
    "# for row in rows:\n",
    "#     print(row)"
   ]
  },
  {
   "cell_type": "code",
   "execution_count": 36,
   "metadata": {},
   "outputs": [
    {
     "data": {
      "text/plain": [
       "['memid',\n",
       " 'surname',\n",
       " 'firstname',\n",
       " 'address',\n",
       " 'zipcode',\n",
       " 'telephone',\n",
       " 'recommendedby',\n",
       " 'joindate']"
      ]
     },
     "execution_count": 36,
     "metadata": {},
     "output_type": "execute_result"
    }
   ],
   "source": [
    "query1 = \"\"\"\n",
    "        SELECT *\n",
    "        FROM members\n",
    "        \"\"\"\n",
    "cur.execute(query1)\n",
    "rows = cur.fetchall()\n",
    "[i[0] for i in cur.description]"
   ]
  },
  {
   "cell_type": "code",
   "execution_count": 81,
   "metadata": {},
   "outputs": [
    {
     "data": {
      "text/plain": [
       "[('Pool Table', 270), ('Snooker Table', 240), ('Table Tennis', 180)]"
      ]
     },
     "execution_count": 81,
     "metadata": {},
     "output_type": "execute_result"
    }
   ],
   "source": [
    "query1 = \"\"\"\n",
    "        SELECT  name,totalrevenue as p\n",
    "        from (select name,sum(case when m.memid=0 then guestcost*slots\n",
    "        else membercost*slots end) as totalrevenue\n",
    "        from members m\n",
    "        inner join bookings b  on m.memid=b.memid \n",
    "        inner join facilities f on b.facid=f.facid\n",
    "        group by f.name) as k\n",
    "        where totalrevenue<1000\n",
    "        order by totalrevenue desc\n",
    "        \"\"\"\n",
    "cur.execute(query1)\n",
    "rows = cur.fetchall()\n",
    "rows\n",
    "# [i[0] for i in cur.description]"
   ]
  },
  {
   "cell_type": "code",
   "execution_count": 35,
   "metadata": {},
   "outputs": [
    {
     "data": {
      "text/plain": [
       "['bookid', 'facid', 'memid', 'starttime', 'slots']"
      ]
     },
     "execution_count": 35,
     "metadata": {},
     "output_type": "execute_result"
    }
   ],
   "source": [
    "query1 = \"\"\"\n",
    "        SELECT *\n",
    "        FROM bookings\n",
    "        \"\"\"\n",
    "cur= cur.execute(query1)\n",
    "# rows = cur.fetchall()\n",
    "# k.keys\n",
    "[i[0] for i in cur.description]"
   ]
  },
  {
   "cell_type": "code",
   "execution_count": 139,
   "metadata": {},
   "outputs": [
    {
     "data": {
      "text/plain": [
       "('Bader', 'Florence', '9')"
      ]
     },
     "execution_count": 139,
     "metadata": {},
     "output_type": "execute_result"
    }
   ],
   "source": [
    "/* Q11: Produce a report of members and who recommended them in alphabetic surname,firstname order */\n",
    "query1 = \"\"\"\n",
    "        SELECT surname, firstname,recommendedby\n",
    "        FROM members\n",
    "        where memid !=0\n",
    "        order by surname, firstname\n",
    "        \"\"\"\n",
    "cur.execute(query1)\n",
    "rows = cur.fetchall()\n",
    "rows[0]"
   ]
  },
  {
   "cell_type": "code",
   "execution_count": null,
   "metadata": {},
   "outputs": [],
   "source": [
    "/* Q12: Find the facilities with their usage by member, but not guests */"
   ]
  },
  {
   "cell_type": "code",
   "execution_count": 109,
   "metadata": {},
   "outputs": [
    {
     "data": {
      "text/plain": [
       "[('Table Tennis',),\n",
       " ('Massage Room 1',),\n",
       " ('Snooker Table',),\n",
       " ('Pool Table',),\n",
       " ('Tennis Court 1',),\n",
       " ('Squash Court',),\n",
       " ('Badminton Court',),\n",
       " ('Tennis Court 2',),\n",
       " ('Massage Room 2',)]"
      ]
     },
     "execution_count": 109,
     "metadata": {},
     "output_type": "execute_result"
    }
   ],
   "source": [
    "query1 = \"\"\"\n",
    "        SELECT distinct name\n",
    "        from (select name,m.memid from members m\n",
    "        inner join bookings b  on m.memid=b.memid \n",
    "        inner join facilities f on b.facid=f.facid\n",
    "        where not m.memid=0) as k\n",
    "        \"\"\"\n",
    "cur.execute(query1)\n",
    "rows = cur.fetchall()\n",
    "rows"
   ]
  },
  {
   "cell_type": "code",
   "execution_count": 125,
   "metadata": {},
   "outputs": [
    {
     "data": {
      "text/plain": [
       "[('Badminton Court', '07'),\n",
       " ('Massage Room 1', '07'),\n",
       " ('Massage Room 2', '07'),\n",
       " ('Pool Table', '07'),\n",
       " ('Snooker Table', '07'),\n",
       " ('Squash Court', '07'),\n",
       " ('Table Tennis', '07'),\n",
       " ('Tennis Court 1', '07'),\n",
       " ('Tennis Court 2', '07'),\n",
       " ('Badminton Court', '08'),\n",
       " ('Massage Room 1', '08'),\n",
       " ('Massage Room 2', '08'),\n",
       " ('Pool Table', '08'),\n",
       " ('Snooker Table', '08'),\n",
       " ('Squash Court', '08'),\n",
       " ('Table Tennis', '08'),\n",
       " ('Tennis Court 1', '08'),\n",
       " ('Tennis Court 2', '08'),\n",
       " ('Badminton Court', '09'),\n",
       " ('Massage Room 1', '09'),\n",
       " ('Massage Room 2', '09'),\n",
       " ('Pool Table', '09'),\n",
       " ('Snooker Table', '09'),\n",
       " ('Squash Court', '09'),\n",
       " ('Table Tennis', '09'),\n",
       " ('Tennis Court 1', '09'),\n",
       " ('Tennis Court 2', '09')]"
      ]
     },
     "execution_count": 125,
     "metadata": {},
     "output_type": "execute_result"
    }
   ],
   "source": [
    "/* Q13: Find the facilities usage by month, but not guests */\n",
    "query1 = \"\"\"\n",
    "        select distinct name, strftime('%m', starttime) as t from members m\n",
    "        inner join bookings b  on m.memid=b.memid \n",
    "        inner join facilities f on b.facid=f.facid\n",
    "        where not m.memid=0\n",
    "        order by t,name\n",
    "        \n",
    "        \"\"\"\n",
    "cur.execute(query1)\n",
    "rows = cur.fetchall()\n",
    "rows"
   ]
  },
  {
   "cell_type": "code",
   "execution_count": null,
   "metadata": {},
   "outputs": [],
   "source": []
  }
 ],
 "metadata": {
  "kernelspec": {
   "display_name": "Python 3",
   "language": "python",
   "name": "python3"
  },
  "language_info": {
   "codemirror_mode": {
    "name": "ipython",
    "version": 3
   },
   "file_extension": ".py",
   "mimetype": "text/x-python",
   "name": "python",
   "nbconvert_exporter": "python",
   "pygments_lexer": "ipython3",
   "version": "3.7.0"
  }
 },
 "nbformat": 4,
 "nbformat_minor": 4
}
