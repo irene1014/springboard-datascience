{
 "cells": [
  {
   "cell_type": "markdown",
   "metadata": {
    "colab_type": "text",
    "id": "cf5CmXQCZyF1"
   },
   "source": [
    "# Guided Capstone Step 4. Pre-Processing and Training Data Development"
   ]
  },
  {
   "cell_type": "markdown",
   "metadata": {
    "colab_type": "text",
    "id": "b2jue2jPGJlt"
   },
   "source": [
    "**The Data Science Method**  \n",
    "\n",
    "\n",
    "1.   Problem Identification \n",
    "\n",
    "\n",
    "2.   Data Wrangling \n",
    "  \n",
    " \n",
    "3.   Exploratory Data Analysis   \n",
    "\n",
    "4.   **Pre-processing and Training Data Development**  \n",
    " * Create dummy or indicator features for categorical variables\n",
    "  * Standardize the magnitude of numeric features\n",
    "  * Split into testing and training datasets\n",
    "  * Apply scaler to the testing set\n",
    "5.   Modeling \n",
    "  * Fit Models with Training Data Set\n",
    "  * Review Model Outcomes — Iterate over additional models as needed.\n",
    "  * Identify the Final Model\n",
    "\n",
    "6.   Documentation\n",
    "  * Review the Results\n",
    "  * Present and share your findings - storytelling\n",
    "  * Finalize Code \n",
    "  * Finalize Documentation"
   ]
  },
  {
   "cell_type": "markdown",
   "metadata": {
    "colab_type": "text",
    "id": "K8xfkAqqZyF2"
   },
   "source": [
    "**<font color='teal'> Start by loading the necessary packages as we did in step 3 and printing out our current working directory just to confirm we are in the correct project directory. </font>**"
   ]
  },
  {
   "cell_type": "code",
   "execution_count": 1,
   "metadata": {
    "colab": {},
    "colab_type": "code",
    "id": "ry6WPL5eZyF3"
   },
   "outputs": [
    {
     "data": {
      "text/plain": [
       "['updated_ski_data.csv',\n",
       " 'step3_revised_data',\n",
       " '.DS_Store',\n",
       " 'fig1.png',\n",
       " 'GuidedCapstoneStep4 and step5HL.ipynb',\n",
       " 'step2_output.csv',\n",
       " 'GuidedCapstoneStep3HL.ipynb',\n",
       " 'GuidedCapstone_Step2HL.ipynb',\n",
       " 'GuidedCapstoneStep6HL.ipynb',\n",
       " '.ipynb_checkpoints',\n",
       " 'step4.csv',\n",
       " 'step3_output.csv',\n",
       " '1564524869_Problem_Statement_Worksheet_Template.pptx']"
      ]
     },
     "execution_count": 1,
     "metadata": {},
     "output_type": "execute_result"
    }
   ],
   "source": [
    "import os\n",
    "import numpy as np\n",
    "import pandas as pd \n",
    "import seaborn as sns\n",
    "import matplotlib.pyplot as plt\n",
    "\n",
    "os.getcwd()\n",
    "os.listdir()"
   ]
  },
  {
   "cell_type": "markdown",
   "metadata": {
    "colab_type": "text",
    "id": "630T-ogRZyF8"
   },
   "source": [
    "**<font color='teal'>  Load the csv file you created in step 3, remember it should be saved inside your data subfolder and print the first five rows.</font>**"
   ]
  },
  {
   "cell_type": "code",
   "execution_count": 7,
   "metadata": {
    "colab": {},
    "colab_type": "code",
    "id": "dMNbk0u3ZyF9"
   },
   "outputs": [
    {
     "name": "stdout",
     "output_type": "stream",
     "text": [
      "<class 'pandas.core.frame.DataFrame'>\n",
      "RangeIndex: 176 entries, 0 to 175\n",
      "Data columns (total 27 columns):\n",
      " #   Column             Non-Null Count  Dtype  \n",
      "---  ------             --------------  -----  \n",
      " 0   Name               176 non-null    object \n",
      " 1   state              176 non-null    object \n",
      " 2   summit_elev        176 non-null    int64  \n",
      " 3   vertical_drop      176 non-null    int64  \n",
      " 4   base_elev          176 non-null    int64  \n",
      " 5   trams              176 non-null    int64  \n",
      " 6   fastEight          176 non-null    float64\n",
      " 7   fastSixes          176 non-null    int64  \n",
      " 8   fastQuads          176 non-null    int64  \n",
      " 9   quad               176 non-null    int64  \n",
      " 10  triple             176 non-null    int64  \n",
      " 11  double             176 non-null    int64  \n",
      " 12  surface            176 non-null    int64  \n",
      " 13  total_chairs       176 non-null    int64  \n",
      " 14  Runs               176 non-null    float64\n",
      " 15  TerrainParks       176 non-null    float64\n",
      " 16  LongestRun_mi      176 non-null    float64\n",
      " 17  SkiableTerrain_ac  176 non-null    float64\n",
      " 18  Snow Making_ac     176 non-null    float64\n",
      " 19  daysOpenLastYear   176 non-null    float64\n",
      " 20  yearsOpen          176 non-null    float64\n",
      " 21  averageSnowfall    176 non-null    float64\n",
      " 22  AdultWeekday       176 non-null    float64\n",
      " 23  AdultWeekend       176 non-null    float64\n",
      " 24  projectedDaysOpen  176 non-null    float64\n",
      " 25  NightSkiing_ac     176 non-null    float64\n",
      " 26  clusters           176 non-null    int64  \n",
      "dtypes: float64(13), int64(12), object(2)\n",
      "memory usage: 37.2+ KB\n"
     ]
    }
   ],
   "source": [
    "df = pd.read_csv(\"step3_output.csv\")\n",
    "df = df.drop(['Unnamed: 0','Unnamed: 0.1','Region'],axis=1)\n",
    "df.head(5)\n",
    "df.info()"
   ]
  },
  {
   "cell_type": "markdown",
   "metadata": {
    "colab_type": "text",
    "id": "zkBHf9smZyGB"
   },
   "source": [
    "## Create dummy features for categorical variables"
   ]
  },
  {
   "cell_type": "markdown",
   "metadata": {
    "colab_type": "text",
    "id": "vWKHm0NhAnrJ"
   },
   "source": [
    "**<font color='teal'> Create dummy variables for `state`. Add the dummies back to the dataframe and remove the original column for `state`. </font>**\n",
    "\n",
    "Hint: you can see an example of how to execute this in Aiden's article on preprocessing [here](https://medium.com/@aiden.dataminer/the-data-science-method-dsm-pre-processing-and-training-data-development-fd2d75182967). "
   ]
  },
  {
   "cell_type": "code",
   "execution_count": 8,
   "metadata": {
    "colab": {},
    "colab_type": "code",
    "id": "lZqWk8ltZyGZ"
   },
   "outputs": [
    {
     "data": {
      "text/html": [
       "<div>\n",
       "<style scoped>\n",
       "    .dataframe tbody tr th:only-of-type {\n",
       "        vertical-align: middle;\n",
       "    }\n",
       "\n",
       "    .dataframe tbody tr th {\n",
       "        vertical-align: top;\n",
       "    }\n",
       "\n",
       "    .dataframe thead th {\n",
       "        text-align: right;\n",
       "    }\n",
       "</style>\n",
       "<table border=\"1\" class=\"dataframe\">\n",
       "  <thead>\n",
       "    <tr style=\"text-align: right;\">\n",
       "      <th></th>\n",
       "      <th>Name</th>\n",
       "      <th>summit_elev</th>\n",
       "      <th>vertical_drop</th>\n",
       "      <th>base_elev</th>\n",
       "      <th>trams</th>\n",
       "      <th>fastEight</th>\n",
       "      <th>fastSixes</th>\n",
       "      <th>fastQuads</th>\n",
       "      <th>quad</th>\n",
       "      <th>triple</th>\n",
       "      <th>...</th>\n",
       "      <th>Rhode Island</th>\n",
       "      <th>South Dakota</th>\n",
       "      <th>Tennessee</th>\n",
       "      <th>Utah</th>\n",
       "      <th>Vermont</th>\n",
       "      <th>Virginia</th>\n",
       "      <th>Washington</th>\n",
       "      <th>West Virginia</th>\n",
       "      <th>Wisconsin</th>\n",
       "      <th>Wyoming</th>\n",
       "    </tr>\n",
       "  </thead>\n",
       "  <tbody>\n",
       "    <tr>\n",
       "      <th>0</th>\n",
       "      <td>Hilltop Ski Area</td>\n",
       "      <td>2090</td>\n",
       "      <td>294</td>\n",
       "      <td>1796</td>\n",
       "      <td>0</td>\n",
       "      <td>0.0</td>\n",
       "      <td>0</td>\n",
       "      <td>0</td>\n",
       "      <td>0</td>\n",
       "      <td>1</td>\n",
       "      <td>...</td>\n",
       "      <td>0</td>\n",
       "      <td>0</td>\n",
       "      <td>0</td>\n",
       "      <td>0</td>\n",
       "      <td>0</td>\n",
       "      <td>0</td>\n",
       "      <td>0</td>\n",
       "      <td>0</td>\n",
       "      <td>0</td>\n",
       "      <td>0</td>\n",
       "    </tr>\n",
       "    <tr>\n",
       "      <th>1</th>\n",
       "      <td>Sunrise Park Resort</td>\n",
       "      <td>11100</td>\n",
       "      <td>1800</td>\n",
       "      <td>9200</td>\n",
       "      <td>0</td>\n",
       "      <td>0.0</td>\n",
       "      <td>0</td>\n",
       "      <td>1</td>\n",
       "      <td>2</td>\n",
       "      <td>3</td>\n",
       "      <td>...</td>\n",
       "      <td>0</td>\n",
       "      <td>0</td>\n",
       "      <td>0</td>\n",
       "      <td>0</td>\n",
       "      <td>0</td>\n",
       "      <td>0</td>\n",
       "      <td>0</td>\n",
       "      <td>0</td>\n",
       "      <td>0</td>\n",
       "      <td>0</td>\n",
       "    </tr>\n",
       "    <tr>\n",
       "      <th>2</th>\n",
       "      <td>Yosemite Ski &amp; Snowboard Area</td>\n",
       "      <td>7800</td>\n",
       "      <td>600</td>\n",
       "      <td>7200</td>\n",
       "      <td>0</td>\n",
       "      <td>0.0</td>\n",
       "      <td>0</td>\n",
       "      <td>0</td>\n",
       "      <td>0</td>\n",
       "      <td>1</td>\n",
       "      <td>...</td>\n",
       "      <td>0</td>\n",
       "      <td>0</td>\n",
       "      <td>0</td>\n",
       "      <td>0</td>\n",
       "      <td>0</td>\n",
       "      <td>0</td>\n",
       "      <td>0</td>\n",
       "      <td>0</td>\n",
       "      <td>0</td>\n",
       "      <td>0</td>\n",
       "    </tr>\n",
       "  </tbody>\n",
       "</table>\n",
       "<p>3 rows × 61 columns</p>\n",
       "</div>"
      ],
      "text/plain": [
       "                            Name  summit_elev  vertical_drop  base_elev  \\\n",
       "0               Hilltop Ski Area         2090            294       1796   \n",
       "1            Sunrise Park Resort        11100           1800       9200   \n",
       "2  Yosemite Ski & Snowboard Area         7800            600       7200   \n",
       "\n",
       "   trams  fastEight  fastSixes  fastQuads  quad  triple  ...  Rhode Island  \\\n",
       "0      0        0.0          0          0     0       1  ...             0   \n",
       "1      0        0.0          0          1     2       3  ...             0   \n",
       "2      0        0.0          0          0     0       1  ...             0   \n",
       "\n",
       "   South Dakota  Tennessee  Utah  Vermont  Virginia  Washington  \\\n",
       "0             0          0     0        0         0           0   \n",
       "1             0          0     0        0         0           0   \n",
       "2             0          0     0        0         0           0   \n",
       "\n",
       "   West Virginia  Wisconsin  Wyoming  \n",
       "0              0          0        0  \n",
       "1              0          0        0  \n",
       "2              0          0        0  \n",
       "\n",
       "[3 rows x 61 columns]"
      ]
     },
     "execution_count": 8,
     "metadata": {},
     "output_type": "execute_result"
    }
   ],
   "source": [
    "k = pd.concat([df.drop(['state'],axis=1),pd.get_dummies(df['state'])],axis=1)\n",
    "k.head(3)"
   ]
  },
  {
   "cell_type": "markdown",
   "metadata": {
    "colab_type": "text",
    "id": "HnDVhE1-ZyGF"
   },
   "source": [
    "## Standardize the magnitude of numeric features"
   ]
  },
  {
   "cell_type": "markdown",
   "metadata": {
    "colab": {},
    "colab_type": "code",
    "id": "gW3D-WlDZyGG"
   },
   "source": [
    "**<font color='teal'> Using sklearn preprocessing standardize the scale of the features of the dataframe except the name of the resort which we done't need in the dataframe for modeling, so it can be droppped here as well. Also, we want to hold out our response variable(s) so we can have their true values available for model performance review. Let's set `AdultWeekend` to the y variable as our response for scaling and modeling. Later we will go back and consider the `AdultWeekday`, `dayOpenLastYear`, and `projectedDaysOpen`. For now leave them in the development dataframe. </font>**"
   ]
  },
  {
   "cell_type": "code",
   "execution_count": 12,
   "metadata": {
    "colab": {},
    "colab_type": "code",
    "id": "IZL-q-KtAYI6"
   },
   "outputs": [],
   "source": [
    "# first we import the preprocessing package from the sklearn library\n",
    "from sklearn import preprocessing\n",
    "\n",
    "# Declare an explanatory variable, called X,and assign it the result of dropping 'Name' and 'AdultWeekend' from the df\n",
    "#X = k.drop(['Name','AdultWeekend'], axis=1)\n",
    "X = k.drop(['Name','AdultWeekend','AdultWeekday','clusters'],axis=1)\n",
    "# Declare a response variable, called y, and assign it the AdultWeekend column of the df \n",
    "y = k.AdultWeekend \n",
    "\n",
    "# Here we use the StandardScaler() method of the preprocessing package, and then call the fit() method with parameter X \n",
    "scaler = preprocessing.StandardScaler().fit(X)\n",
    "\n",
    "# Declare a variable called X_scaled, and assign it the result of calling the transform() method with parameter X \n",
    "X_scaled=scaler.transform(X) "
   ]
  },
  {
   "cell_type": "markdown",
   "metadata": {
    "colab_type": "text",
    "id": "GAT8h4_mZyGK"
   },
   "source": [
    "## Split into training and testing datasets"
   ]
  },
  {
   "cell_type": "markdown",
   "metadata": {
    "colab_type": "text",
    "id": "6rdS8EGeAnrW"
   },
   "source": [
    "**<font color='teal'> Using sklearn model selection import train_test_split, and create a 75/25 split with the y = `AdultWeekend`. We will start by using the adult weekend ticket price as our response variable for modeling.</font>**"
   ]
  },
  {
   "cell_type": "code",
   "execution_count": 13,
   "metadata": {
    "colab": {},
    "colab_type": "code",
    "id": "BSkPut0gguds"
   },
   "outputs": [],
   "source": [
    "# Import the train_test_split function from the sklearn.model_selection utility.  \n",
    "from sklearn.model_selection import train_test_split\n",
    "\n",
    "# Get the 1-dimensional flattened array of our response variable y by calling the ravel() function on y\n",
    "y = k.AdultWeekend \n",
    "y = k['AdultWeekend'].ravel()\n",
    "\n",
    "# Call the train_test_split() function with the first two parameters set to X_scaled and y \n",
    "# Declare four variables, X_train, X_test, y_train and y_test separated by commas \n",
    "X_train,X_test,y_train,y_test= train_test_split(X_scaled, y, test_size=0.25, random_state=1)"
   ]
  },
  {
   "cell_type": "code",
   "execution_count": 14,
   "metadata": {},
   "outputs": [
    {
     "data": {
      "text/plain": [
       "array([[-0.80077675, -0.85212798, -0.71839355, ..., -0.13168538,\n",
       "        -0.25819889, -0.17099639],\n",
       "       [-0.61050361,  0.55347569, -0.79288315, ..., -0.13168538,\n",
       "        -0.25819889, -0.17099639],\n",
       "       [-0.54151026,  0.19614753, -0.64251809, ..., -0.13168538,\n",
       "        -0.25819889, -0.17099639],\n",
       "       ...,\n",
       "       [-0.80232369, -0.9368029 , -0.7028027 , ..., -0.13168538,\n",
       "        -0.25819889, -0.17099639],\n",
       "       [ 1.51808048,  1.26474502,  1.52564902, ..., -0.13168538,\n",
       "        -0.25819889, -0.17099639],\n",
       "       [-0.81500856, -0.64044068, -0.77763877, ..., -0.13168538,\n",
       "        -0.25819889, -0.17099639]])"
      ]
     },
     "execution_count": 14,
     "metadata": {},
     "output_type": "execute_result"
    }
   ],
   "source": [
    "X_train"
   ]
  },
  {
   "cell_type": "markdown",
   "metadata": {
    "colab_type": "text",
    "id": "UayqbwkWAnra"
   },
   "source": [
    "Here we start the actual modeling work. First let's fit a multiple linear regression model to predict the `AdultWeekend` price."
   ]
  },
  {
   "cell_type": "markdown",
   "metadata": {
    "colab_type": "text",
    "id": "83fkLldXFCNd"
   },
   "source": [
    "# Guided Capstone Step 5. Modeling\n"
   ]
  },
  {
   "cell_type": "markdown",
   "metadata": {
    "colab_type": "text",
    "id": "JbZXsVevfr9M"
   },
   "source": [
    "This is the fifth step in the Data Science Method. In the previous steps you cleaned and prepared the datasets. Now it's time to get into the most exciting part: modeling! In this exercise, you'll build three different models and compare each model's performance. In the end, you'll choose the best model for demonstrating insights to Big Mountain management.\n",
    "\n",
    "\n",
    "\n",
    "### **The Data Science Method**  \n",
    "\n",
    "\n",
    "1.   Problem Identification \n",
    "\n",
    "2.   Data Wrangling \n",
    "  \n",
    "3.   Exploratory Data Analysis \n",
    " \n",
    "4.   Pre-processing and Training Data Development\n",
    "\n",
    "5.   **Modeling**\n",
    "  * Fit Models with Training Data Set\n",
    "  * Review Model Outcomes — Iterate over additional models as needed.\n",
    "  * Identify the Final Model\n",
    "\n",
    "6.   Documentation\n",
    "  * Review the Results\n",
    "  * Present and share your findings - storytelling\n",
    "  * Finalize Code \n",
    "  * Finalize Documentation"
   ]
  },
  {
   "cell_type": "markdown",
   "metadata": {
    "colab_type": "text",
    "id": "D_wfsP_-Anra"
   },
   "source": [
    "## Fit Models with a Training Dataset"
   ]
  },
  {
   "cell_type": "markdown",
   "metadata": {
    "colab_type": "text",
    "id": "CoI8S5SwAnrc"
   },
   "source": [
    "**<font color='teal'> Using sklearn, fit the model on your training dataset.</font>**"
   ]
  },
  {
   "cell_type": "code",
   "execution_count": 18,
   "metadata": {
    "collapsed": true
   },
   "outputs": [
    {
     "name": "stdout",
     "output_type": "stream",
     "text": [
      "Collecting statsmodels\n",
      "\u001b[?25l  Downloading https://files.pythonhosted.org/packages/bf/a0/f29d1644e74ecac3b86b7135f1f6058050e367568cbc493c981390c8ca34/statsmodels-0.11.1-cp37-cp37m-macosx_10_13_x86_64.whl (8.4MB)\n",
      "\u001b[K    100% |████████████████████████████████| 8.4MB 4.0MB/s eta 0:00:01\n",
      "\u001b[?25hCollecting patsy>=0.5 (from statsmodels)\n",
      "\u001b[?25l  Downloading https://files.pythonhosted.org/packages/ea/0c/5f61f1a3d4385d6bf83b83ea495068857ff8dfb89e74824c6e9eb63286d8/patsy-0.5.1-py2.py3-none-any.whl (231kB)\n",
      "\u001b[K    100% |████████████████████████████████| 235kB 16.3MB/s ta 0:00:01\n",
      "\u001b[?25hRequirement already satisfied: scipy>=1.0 in /Users/irenecho/work/venv/py37/lib/python3.7/site-packages (from statsmodels) (1.4.1)\n",
      "Requirement already satisfied: numpy>=1.14 in /Users/irenecho/work/venv/py37/lib/python3.7/site-packages (from statsmodels) (1.18.4)\n",
      "Requirement already satisfied: pandas>=0.21 in /Users/irenecho/work/venv/py37/lib/python3.7/site-packages (from statsmodels) (1.0.3)\n",
      "Requirement already satisfied: six in /Users/irenecho/work/venv/py37/lib/python3.7/site-packages (from patsy>=0.5->statsmodels) (1.15.0)\n",
      "Requirement already satisfied: python-dateutil>=2.6.1 in /Users/irenecho/work/venv/py37/lib/python3.7/site-packages (from pandas>=0.21->statsmodels) (2.8.1)\n",
      "Requirement already satisfied: pytz>=2017.2 in /Users/irenecho/work/venv/py37/lib/python3.7/site-packages (from pandas>=0.21->statsmodels) (2020.1)\n",
      "Installing collected packages: patsy, statsmodels\n",
      "Successfully installed patsy-0.5.1 statsmodels-0.11.1\n",
      "\u001b[33mYou are using pip version 19.0.3, however version 20.2b1 is available.\n",
      "You should consider upgrading via the 'pip install --upgrade pip' command.\u001b[0m\n"
     ]
    }
   ],
   "source": [
    "!pip3 install statsmodels"
   ]
  },
  {
   "cell_type": "markdown",
   "metadata": {
    "colab_type": "text",
    "id": "P_GFr8sRAnrd"
   },
   "source": [
    "#### Model 1"
   ]
  },
  {
   "cell_type": "code",
   "execution_count": 15,
   "metadata": {
    "colab": {},
    "colab_type": "code",
    "id": "fW6K7uOPAnre"
   },
   "outputs": [
    {
     "data": {
      "text/html": [
       "<table class=\"simpletable\">\n",
       "<caption>OLS Regression Results</caption>\n",
       "<tr>\n",
       "  <th>Dep. Variable:</th>            <td>y</td>        <th>  R-squared:         </th> <td>   0.807</td>\n",
       "</tr>\n",
       "<tr>\n",
       "  <th>Model:</th>                   <td>OLS</td>       <th>  Adj. R-squared:    </th> <td>   0.683</td>\n",
       "</tr>\n",
       "<tr>\n",
       "  <th>Method:</th>             <td>Least Squares</td>  <th>  F-statistic:       </th> <td>   6.545</td>\n",
       "</tr>\n",
       "<tr>\n",
       "  <th>Date:</th>             <td>Wed, 01 Jul 2020</td> <th>  Prob (F-statistic):</th> <td>6.91e-14</td>\n",
       "</tr>\n",
       "<tr>\n",
       "  <th>Time:</th>                 <td>21:41:01</td>     <th>  Log-Likelihood:    </th> <td> -442.63</td>\n",
       "</tr>\n",
       "<tr>\n",
       "  <th>No. Observations:</th>      <td>   132</td>      <th>  AIC:               </th> <td>   989.3</td>\n",
       "</tr>\n",
       "<tr>\n",
       "  <th>Df Residuals:</th>          <td>    80</td>      <th>  BIC:               </th> <td>   1139.</td>\n",
       "</tr>\n",
       "<tr>\n",
       "  <th>Df Model:</th>              <td>    51</td>      <th>                     </th>     <td> </td>   \n",
       "</tr>\n",
       "<tr>\n",
       "  <th>Covariance Type:</th>      <td>nonrobust</td>    <th>                     </th>     <td> </td>   \n",
       "</tr>\n",
       "</table>\n",
       "<table class=\"simpletable\">\n",
       "<tr>\n",
       "    <td></td>       <th>coef</th>     <th>std err</th>      <th>t</th>      <th>P>|t|</th>  <th>[0.025</th>    <th>0.975]</th>  \n",
       "</tr>\n",
       "<tr>\n",
       "  <th>x1</th>    <td>   94.2174</td> <td>   84.907</td> <td>    1.110</td> <td> 0.270</td> <td>  -74.753</td> <td>  263.187</td>\n",
       "</tr>\n",
       "<tr>\n",
       "  <th>x2</th>    <td>  -11.6604</td> <td>   15.803</td> <td>   -0.738</td> <td> 0.463</td> <td>  -43.110</td> <td>   19.790</td>\n",
       "</tr>\n",
       "<tr>\n",
       "  <th>x3</th>    <td>  -80.7448</td> <td>   74.999</td> <td>   -1.077</td> <td> 0.285</td> <td> -229.998</td> <td>   68.508</td>\n",
       "</tr>\n",
       "<tr>\n",
       "  <th>const</th> <td>-5.036e-13</td> <td> 1.06e-12</td> <td>   -0.476</td> <td> 0.635</td> <td>-2.61e-12</td> <td>  1.6e-12</td>\n",
       "</tr>\n",
       "<tr>\n",
       "  <th>x4</th>    <td> 9.767e-13</td> <td> 3.12e-13</td> <td>    3.133</td> <td> 0.002</td> <td> 3.56e-13</td> <td>  1.6e-12</td>\n",
       "</tr>\n",
       "<tr>\n",
       "  <th>x5</th>    <td> 1.558e-12</td> <td> 1.18e-12</td> <td>    1.323</td> <td> 0.190</td> <td>-7.85e-13</td> <td>  3.9e-12</td>\n",
       "</tr>\n",
       "<tr>\n",
       "  <th>x6</th>    <td>    0.5707</td> <td>    1.218</td> <td>    0.469</td> <td> 0.641</td> <td>   -1.853</td> <td>    2.994</td>\n",
       "</tr>\n",
       "<tr>\n",
       "  <th>x7</th>    <td>    2.9811</td> <td>    1.052</td> <td>    2.834</td> <td> 0.006</td> <td>    0.887</td> <td>    5.075</td>\n",
       "</tr>\n",
       "<tr>\n",
       "  <th>x8</th>    <td>    2.6900</td> <td>    1.109</td> <td>    2.426</td> <td> 0.018</td> <td>    0.483</td> <td>    4.897</td>\n",
       "</tr>\n",
       "<tr>\n",
       "  <th>x9</th>    <td>    1.2345</td> <td>    1.060</td> <td>    1.165</td> <td> 0.248</td> <td>   -0.875</td> <td>    3.344</td>\n",
       "</tr>\n",
       "<tr>\n",
       "  <th>x10</th>   <td>   -1.5464</td> <td>    0.969</td> <td>   -1.596</td> <td> 0.114</td> <td>   -3.474</td> <td>    0.382</td>\n",
       "</tr>\n",
       "<tr>\n",
       "  <th>x11</th>   <td>    1.9545</td> <td>    0.702</td> <td>    2.783</td> <td> 0.007</td> <td>    0.557</td> <td>    3.352</td>\n",
       "</tr>\n",
       "<tr>\n",
       "  <th>x12</th>   <td>    2.0057</td> <td>    2.318</td> <td>    0.865</td> <td> 0.390</td> <td>   -2.608</td> <td>    6.619</td>\n",
       "</tr>\n",
       "<tr>\n",
       "  <th>x13</th>   <td>    0.1718</td> <td>    1.235</td> <td>    0.139</td> <td> 0.890</td> <td>   -2.287</td> <td>    2.630</td>\n",
       "</tr>\n",
       "<tr>\n",
       "  <th>x14</th>   <td>    1.7278</td> <td>    1.386</td> <td>    1.246</td> <td> 0.216</td> <td>   -1.031</td> <td>    4.486</td>\n",
       "</tr>\n",
       "<tr>\n",
       "  <th>x15</th>   <td>   -2.1932</td> <td>    1.698</td> <td>   -1.292</td> <td> 0.200</td> <td>   -5.571</td> <td>    1.185</td>\n",
       "</tr>\n",
       "<tr>\n",
       "  <th>x16</th>   <td>    2.1571</td> <td>    1.365</td> <td>    1.581</td> <td> 0.118</td> <td>   -0.559</td> <td>    4.873</td>\n",
       "</tr>\n",
       "<tr>\n",
       "  <th>x17</th>   <td>    0.8950</td> <td>    1.489</td> <td>    0.601</td> <td> 0.549</td> <td>   -2.067</td> <td>    3.857</td>\n",
       "</tr>\n",
       "<tr>\n",
       "  <th>x18</th>   <td>   -1.4932</td> <td>    1.156</td> <td>   -1.292</td> <td> 0.200</td> <td>   -3.794</td> <td>    0.807</td>\n",
       "</tr>\n",
       "<tr>\n",
       "  <th>x19</th>   <td>    2.3673</td> <td>    1.827</td> <td>    1.295</td> <td> 0.199</td> <td>   -1.269</td> <td>    6.004</td>\n",
       "</tr>\n",
       "<tr>\n",
       "  <th>x20</th>   <td>   -1.4881</td> <td>    1.470</td> <td>   -1.012</td> <td> 0.314</td> <td>   -4.413</td> <td>    1.437</td>\n",
       "</tr>\n",
       "<tr>\n",
       "  <th>x21</th>   <td>    0.9838</td> <td>    1.140</td> <td>    0.863</td> <td> 0.391</td> <td>   -1.284</td> <td>    3.252</td>\n",
       "</tr>\n",
       "<tr>\n",
       "  <th>x22</th>   <td>    4.0032</td> <td>    0.759</td> <td>    5.276</td> <td> 0.000</td> <td>    2.493</td> <td>    5.513</td>\n",
       "</tr>\n",
       "<tr>\n",
       "  <th>x23</th>   <td>    3.2474</td> <td>    1.134</td> <td>    2.864</td> <td> 0.005</td> <td>    0.991</td> <td>    5.504</td>\n",
       "</tr>\n",
       "<tr>\n",
       "  <th>x24</th>   <td>   13.2382</td> <td>    1.947</td> <td>    6.800</td> <td> 0.000</td> <td>    9.364</td> <td>   17.113</td>\n",
       "</tr>\n",
       "<tr>\n",
       "  <th>x25</th>   <td>   10.7323</td> <td>    1.742</td> <td>    6.160</td> <td> 0.000</td> <td>    7.265</td> <td>   14.200</td>\n",
       "</tr>\n",
       "<tr>\n",
       "  <th>x26</th>   <td>   12.0883</td> <td>    1.097</td> <td>   11.020</td> <td> 0.000</td> <td>    9.905</td> <td>   14.271</td>\n",
       "</tr>\n",
       "<tr>\n",
       "  <th>x27</th>   <td>    7.9643</td> <td>    1.328</td> <td>    5.999</td> <td> 0.000</td> <td>    5.322</td> <td>   10.607</td>\n",
       "</tr>\n",
       "<tr>\n",
       "  <th>x28</th>   <td>    7.5901</td> <td>    1.045</td> <td>    7.260</td> <td> 0.000</td> <td>    5.510</td> <td>    9.671</td>\n",
       "</tr>\n",
       "<tr>\n",
       "  <th>x29</th>   <td>    5.4874</td> <td>    0.883</td> <td>    6.212</td> <td> 0.000</td> <td>    3.729</td> <td>    7.245</td>\n",
       "</tr>\n",
       "<tr>\n",
       "  <th>x30</th>   <td>    7.4103</td> <td>    1.049</td> <td>    7.064</td> <td> 0.000</td> <td>    5.323</td> <td>    9.498</td>\n",
       "</tr>\n",
       "<tr>\n",
       "  <th>x31</th>   <td>    8.8264</td> <td>    1.358</td> <td>    6.499</td> <td> 0.000</td> <td>    6.123</td> <td>   11.529</td>\n",
       "</tr>\n",
       "<tr>\n",
       "  <th>x32</th>   <td>    5.0356</td> <td>    0.769</td> <td>    6.546</td> <td> 0.000</td> <td>    3.505</td> <td>    6.566</td>\n",
       "</tr>\n",
       "<tr>\n",
       "  <th>x33</th>   <td>    8.9900</td> <td>    0.961</td> <td>    9.360</td> <td> 0.000</td> <td>    7.079</td> <td>   10.902</td>\n",
       "</tr>\n",
       "<tr>\n",
       "  <th>x34</th>   <td>   16.4284</td> <td>    1.306</td> <td>   12.581</td> <td> 0.000</td> <td>   13.830</td> <td>   19.027</td>\n",
       "</tr>\n",
       "<tr>\n",
       "  <th>x35</th>   <td>   11.8145</td> <td>    1.021</td> <td>   11.577</td> <td> 0.000</td> <td>    9.784</td> <td>   13.845</td>\n",
       "</tr>\n",
       "<tr>\n",
       "  <th>x36</th>   <td>    6.5026</td> <td>    0.810</td> <td>    8.027</td> <td> 0.000</td> <td>    4.890</td> <td>    8.115</td>\n",
       "</tr>\n",
       "<tr>\n",
       "  <th>x37</th>   <td>    5.7028</td> <td>    1.462</td> <td>    3.899</td> <td> 0.000</td> <td>    2.792</td> <td>    8.613</td>\n",
       "</tr>\n",
       "<tr>\n",
       "  <th>x38</th>   <td>    0.8316</td> <td>    4.063</td> <td>    0.205</td> <td> 0.838</td> <td>   -7.255</td> <td>    8.918</td>\n",
       "</tr>\n",
       "<tr>\n",
       "  <th>x39</th>   <td>   16.5802</td> <td>    1.237</td> <td>   13.401</td> <td> 0.000</td> <td>   14.118</td> <td>   19.042</td>\n",
       "</tr>\n",
       "<tr>\n",
       "  <th>x40</th>   <td> -740.3596</td> <td>   10.977</td> <td>  -67.446</td> <td> 0.000</td> <td> -762.204</td> <td> -718.515</td>\n",
       "</tr>\n",
       "<tr>\n",
       "  <th>x41</th>   <td>    7.7135</td> <td>    2.214</td> <td>    3.483</td> <td> 0.001</td> <td>    3.307</td> <td>   12.120</td>\n",
       "</tr>\n",
       "<tr>\n",
       "  <th>x42</th>   <td>   19.8192</td> <td>    1.235</td> <td>   16.051</td> <td> 0.000</td> <td>   17.362</td> <td>   22.276</td>\n",
       "</tr>\n",
       "<tr>\n",
       "  <th>x43</th>   <td>    9.5194</td> <td>    0.835</td> <td>   11.400</td> <td> 0.000</td> <td>    7.858</td> <td>   11.181</td>\n",
       "</tr>\n",
       "<tr>\n",
       "  <th>x44</th>   <td>    8.1518</td> <td>    1.087</td> <td>    7.499</td> <td> 0.000</td> <td>    5.988</td> <td>   10.315</td>\n",
       "</tr>\n",
       "<tr>\n",
       "  <th>x45</th>   <td>    5.4822</td> <td>    1.283</td> <td>    4.274</td> <td> 0.000</td> <td>    2.930</td> <td>    8.035</td>\n",
       "</tr>\n",
       "<tr>\n",
       "  <th>x46</th>   <td>   15.5681</td> <td>    1.169</td> <td>   13.312</td> <td> 0.000</td> <td>   13.241</td> <td>   17.895</td>\n",
       "</tr>\n",
       "<tr>\n",
       "  <th>x47</th>   <td>    6.6528</td> <td>    0.775</td> <td>    8.588</td> <td> 0.000</td> <td>    5.111</td> <td>    8.194</td>\n",
       "</tr>\n",
       "<tr>\n",
       "  <th>x48</th>   <td>    3.6414</td> <td>    0.877</td> <td>    4.151</td> <td> 0.000</td> <td>    1.896</td> <td>    5.387</td>\n",
       "</tr>\n",
       "<tr>\n",
       "  <th>x49</th>   <td>    5.4584</td> <td>    0.797</td> <td>    6.848</td> <td> 0.000</td> <td>    3.872</td> <td>    7.045</td>\n",
       "</tr>\n",
       "<tr>\n",
       "  <th>x50</th>   <td>    6.5328</td> <td>    1.145</td> <td>    5.704</td> <td> 0.000</td> <td>    4.254</td> <td>    8.812</td>\n",
       "</tr>\n",
       "<tr>\n",
       "  <th>x51</th>   <td>   14.2078</td> <td>    1.262</td> <td>   11.257</td> <td> 0.000</td> <td>   11.696</td> <td>   16.720</td>\n",
       "</tr>\n",
       "<tr>\n",
       "  <th>x52</th>   <td>    8.8532</td> <td>    0.735</td> <td>   12.050</td> <td> 0.000</td> <td>    7.391</td> <td>   10.315</td>\n",
       "</tr>\n",
       "<tr>\n",
       "  <th>x53</th>   <td>    7.7428</td> <td>    1.486</td> <td>    5.212</td> <td> 0.000</td> <td>    4.787</td> <td>   10.699</td>\n",
       "</tr>\n",
       "<tr>\n",
       "  <th>x54</th>   <td>    9.8919</td> <td>    0.901</td> <td>   10.975</td> <td> 0.000</td> <td>    8.098</td> <td>   11.686</td>\n",
       "</tr>\n",
       "<tr>\n",
       "  <th>x55</th>   <td>   15.7897</td> <td>    1.218</td> <td>   12.963</td> <td> 0.000</td> <td>   13.366</td> <td>   18.214</td>\n",
       "</tr>\n",
       "<tr>\n",
       "  <th>x56</th>   <td>    8.1840</td> <td>    1.489</td> <td>    5.496</td> <td> 0.000</td> <td>    5.221</td> <td>   11.147</td>\n",
       "</tr>\n",
       "</table>\n",
       "<table class=\"simpletable\">\n",
       "<tr>\n",
       "  <th>Omnibus:</th>       <td> 5.957</td> <th>  Durbin-Watson:     </th> <td>   1.860</td>\n",
       "</tr>\n",
       "<tr>\n",
       "  <th>Prob(Omnibus):</th> <td> 0.051</td> <th>  Jarque-Bera (JB):  </th> <td>   5.914</td>\n",
       "</tr>\n",
       "<tr>\n",
       "  <th>Skew:</th>          <td> 0.366</td> <th>  Prob(JB):          </th> <td>  0.0520</td>\n",
       "</tr>\n",
       "<tr>\n",
       "  <th>Kurtosis:</th>      <td> 3.734</td> <th>  Cond. No.          </th> <td>2.33e+16</td>\n",
       "</tr>\n",
       "</table><br/><br/>Warnings:<br/>[1] Standard Errors assume that the covariance matrix of the errors is correctly specified.<br/>[2] The smallest eigenvalue is 1.51e-30. This might indicate that there are<br/>strong multicollinearity problems or that the design matrix is singular."
      ],
      "text/plain": [
       "<class 'statsmodels.iolib.summary.Summary'>\n",
       "\"\"\"\n",
       "                            OLS Regression Results                            \n",
       "==============================================================================\n",
       "Dep. Variable:                      y   R-squared:                       0.807\n",
       "Model:                            OLS   Adj. R-squared:                  0.683\n",
       "Method:                 Least Squares   F-statistic:                     6.545\n",
       "Date:                Wed, 01 Jul 2020   Prob (F-statistic):           6.91e-14\n",
       "Time:                        21:41:01   Log-Likelihood:                -442.63\n",
       "No. Observations:                 132   AIC:                             989.3\n",
       "Df Residuals:                      80   BIC:                             1139.\n",
       "Df Model:                          51                                         \n",
       "Covariance Type:            nonrobust                                         \n",
       "==============================================================================\n",
       "                 coef    std err          t      P>|t|      [0.025      0.975]\n",
       "------------------------------------------------------------------------------\n",
       "x1            94.2174     84.907      1.110      0.270     -74.753     263.187\n",
       "x2           -11.6604     15.803     -0.738      0.463     -43.110      19.790\n",
       "x3           -80.7448     74.999     -1.077      0.285    -229.998      68.508\n",
       "const      -5.036e-13   1.06e-12     -0.476      0.635   -2.61e-12     1.6e-12\n",
       "x4          9.767e-13   3.12e-13      3.133      0.002    3.56e-13     1.6e-12\n",
       "x5          1.558e-12   1.18e-12      1.323      0.190   -7.85e-13     3.9e-12\n",
       "x6             0.5707      1.218      0.469      0.641      -1.853       2.994\n",
       "x7             2.9811      1.052      2.834      0.006       0.887       5.075\n",
       "x8             2.6900      1.109      2.426      0.018       0.483       4.897\n",
       "x9             1.2345      1.060      1.165      0.248      -0.875       3.344\n",
       "x10           -1.5464      0.969     -1.596      0.114      -3.474       0.382\n",
       "x11            1.9545      0.702      2.783      0.007       0.557       3.352\n",
       "x12            2.0057      2.318      0.865      0.390      -2.608       6.619\n",
       "x13            0.1718      1.235      0.139      0.890      -2.287       2.630\n",
       "x14            1.7278      1.386      1.246      0.216      -1.031       4.486\n",
       "x15           -2.1932      1.698     -1.292      0.200      -5.571       1.185\n",
       "x16            2.1571      1.365      1.581      0.118      -0.559       4.873\n",
       "x17            0.8950      1.489      0.601      0.549      -2.067       3.857\n",
       "x18           -1.4932      1.156     -1.292      0.200      -3.794       0.807\n",
       "x19            2.3673      1.827      1.295      0.199      -1.269       6.004\n",
       "x20           -1.4881      1.470     -1.012      0.314      -4.413       1.437\n",
       "x21            0.9838      1.140      0.863      0.391      -1.284       3.252\n",
       "x22            4.0032      0.759      5.276      0.000       2.493       5.513\n",
       "x23            3.2474      1.134      2.864      0.005       0.991       5.504\n",
       "x24           13.2382      1.947      6.800      0.000       9.364      17.113\n",
       "x25           10.7323      1.742      6.160      0.000       7.265      14.200\n",
       "x26           12.0883      1.097     11.020      0.000       9.905      14.271\n",
       "x27            7.9643      1.328      5.999      0.000       5.322      10.607\n",
       "x28            7.5901      1.045      7.260      0.000       5.510       9.671\n",
       "x29            5.4874      0.883      6.212      0.000       3.729       7.245\n",
       "x30            7.4103      1.049      7.064      0.000       5.323       9.498\n",
       "x31            8.8264      1.358      6.499      0.000       6.123      11.529\n",
       "x32            5.0356      0.769      6.546      0.000       3.505       6.566\n",
       "x33            8.9900      0.961      9.360      0.000       7.079      10.902\n",
       "x34           16.4284      1.306     12.581      0.000      13.830      19.027\n",
       "x35           11.8145      1.021     11.577      0.000       9.784      13.845\n",
       "x36            6.5026      0.810      8.027      0.000       4.890       8.115\n",
       "x37            5.7028      1.462      3.899      0.000       2.792       8.613\n",
       "x38            0.8316      4.063      0.205      0.838      -7.255       8.918\n",
       "x39           16.5802      1.237     13.401      0.000      14.118      19.042\n",
       "x40         -740.3596     10.977    -67.446      0.000    -762.204    -718.515\n",
       "x41            7.7135      2.214      3.483      0.001       3.307      12.120\n",
       "x42           19.8192      1.235     16.051      0.000      17.362      22.276\n",
       "x43            9.5194      0.835     11.400      0.000       7.858      11.181\n",
       "x44            8.1518      1.087      7.499      0.000       5.988      10.315\n",
       "x45            5.4822      1.283      4.274      0.000       2.930       8.035\n",
       "x46           15.5681      1.169     13.312      0.000      13.241      17.895\n",
       "x47            6.6528      0.775      8.588      0.000       5.111       8.194\n",
       "x48            3.6414      0.877      4.151      0.000       1.896       5.387\n",
       "x49            5.4584      0.797      6.848      0.000       3.872       7.045\n",
       "x50            6.5328      1.145      5.704      0.000       4.254       8.812\n",
       "x51           14.2078      1.262     11.257      0.000      11.696      16.720\n",
       "x52            8.8532      0.735     12.050      0.000       7.391      10.315\n",
       "x53            7.7428      1.486      5.212      0.000       4.787      10.699\n",
       "x54            9.8919      0.901     10.975      0.000       8.098      11.686\n",
       "x55           15.7897      1.218     12.963      0.000      13.366      18.214\n",
       "x56            8.1840      1.489      5.496      0.000       5.221      11.147\n",
       "==============================================================================\n",
       "Omnibus:                        5.957   Durbin-Watson:                   1.860\n",
       "Prob(Omnibus):                  0.051   Jarque-Bera (JB):                5.914\n",
       "Skew:                           0.366   Prob(JB):                       0.0520\n",
       "Kurtosis:                       3.734   Cond. No.                     2.33e+16\n",
       "==============================================================================\n",
       "\n",
       "Warnings:\n",
       "[1] Standard Errors assume that the covariance matrix of the errors is correctly specified.\n",
       "[2] The smallest eigenvalue is 1.51e-30. This might indicate that there are\n",
       "strong multicollinearity problems or that the design matrix is singular.\n",
       "\"\"\""
      ]
     },
     "execution_count": 15,
     "metadata": {},
     "output_type": "execute_result"
    }
   ],
   "source": [
    "#all first model set\n",
    "# from sklearn import linear_model\n",
    "# from sklearn.metrics import explained_variance_score,mean_absolute_error\n",
    "# lm = linear_model.LinearRegression()\n",
    "# model = lm.fit(X_train,y_train)\n",
    "import statsmodels.api as sm\n",
    "X_train = sm.add_constant(X_train)\n",
    "model = sm.OLS(y_train,X_train)\n",
    "model = model.fit()\n",
    "model.summary()"
   ]
  },
  {
   "cell_type": "markdown",
   "metadata": {
    "colab_type": "text",
    "id": "1fHqz9-WAnrg"
   },
   "source": [
    "**<font color='teal'> Predict on the testing dataset and score the model performance with the y_test set and the y-pred values. The explained variance is a measure of the variation explained by the model. This is also known as the R-squared value. </font>**\n",
    "\n",
    "Hint: you will have to use the `predict()` method here as it's used in this [DSM article](https://medium.com/@aiden.dataminer/the-data-science-method-dsm-modeling-56b4233cad1b) about modeling. "
   ]
  },
  {
   "cell_type": "code",
   "execution_count": 369,
   "metadata": {
    "colab": {},
    "colab_type": "code",
    "id": "nIo01lFEAnrh",
    "scrolled": true
   },
   "outputs": [],
   "source": [
    "# Make a variable called y_pred and assign it the result of calling predict() on our model variable with parameter X_test\\\n",
    "y_pred =model.predict(X_test)"
   ]
  },
  {
   "cell_type": "markdown",
   "metadata": {
    "colab_type": "text",
    "id": "N4YS0WE2Anrk"
   },
   "source": [
    "## Review Model Outcomes — Iterate over additional models as needed"
   ]
  },
  {
   "cell_type": "code",
   "execution_count": 176,
   "metadata": {
    "colab": {},
    "colab_type": "code",
    "id": "HSh9sGIYAnrk"
   },
   "outputs": [],
   "source": [
    "# You might want to use the explained_variance_score() and mean_absolute_error() metrics.\n",
    "# To do so, you will need to import them from sklearn.metrics. \n",
    "# You can plug y_test and y_pred into the functions to evaluate the model"
   ]
  },
  {
   "cell_type": "code",
   "execution_count": 370,
   "metadata": {
    "colab": {},
    "colab_type": "code",
    "id": "ihzeo8tqAnro"
   },
   "outputs": [
    {
     "data": {
      "text/plain": [
       "(-11706.639930117824, 231.7118369096451)"
      ]
     },
     "execution_count": 370,
     "metadata": {},
     "output_type": "execute_result"
    }
   ],
   "source": [
    "from sklearn.metrics import explained_variance_score, mean_absolute_error\n",
    "explained_variance_score(y_test,y_pred), mean_absolute_error(y_test,y_pred)"
   ]
  },
  {
   "cell_type": "markdown",
   "metadata": {
    "colab_type": "text",
    "id": "NWJcOuSdAnrr"
   },
   "source": [
    "**<font color='teal'> Print the intercept value from the linear model. </font>**\n",
    "\n",
    "Hint: our linear regression model `lm` has an attribute `intercept_` for the intercept"
   ]
  },
  {
   "cell_type": "code",
   "execution_count": 371,
   "metadata": {},
   "outputs": [
    {
     "data": {
      "text/plain": [
       "5.460818146023717e-13"
      ]
     },
     "execution_count": 371,
     "metadata": {},
     "output_type": "execute_result"
    }
   ],
   "source": [
    "model.params[3]"
   ]
  },
  {
   "cell_type": "markdown",
   "metadata": {
    "colab_type": "text",
    "id": "edajrenAAnrv"
   },
   "source": [
    "**<font color='teal'> The intercept is the mean `AdultWeekend` price for all the resorts given the other characteristics. The addition or subtraction of each of the coefficient values in the regression are numeric adjustments applied to the intercept to provide a particular observation's value for the resulting `AdultWeekend` value. Also, because we took the time to scale our x values in the training data, we can compare each of the coeeficients for the features to determine the feature importances. Print the coefficient values from the linear model and sort in descending order to identify the top ten most important features.</font>** \n",
    "\n",
    "\n",
    "Hint: make sure to review the absolute value of the coefficients, because the adjustment may be positive or negative, but what we are looking for is the magnitude of impact on our response variable."
   ]
  },
  {
   "cell_type": "code",
   "execution_count": 372,
   "metadata": {
    "colab": {},
    "colab_type": "code",
    "id": "FEKc_lmZAnrw"
   },
   "outputs": [
    {
     "data": {
      "text/html": [
       "<div>\n",
       "<style scoped>\n",
       "    .dataframe tbody tr th:only-of-type {\n",
       "        vertical-align: middle;\n",
       "    }\n",
       "\n",
       "    .dataframe tbody tr th {\n",
       "        vertical-align: top;\n",
       "    }\n",
       "\n",
       "    .dataframe thead th {\n",
       "        text-align: right;\n",
       "    }\n",
       "</style>\n",
       "<table border=\"1\" class=\"dataframe\">\n",
       "  <thead>\n",
       "    <tr style=\"text-align: right;\">\n",
       "      <th></th>\n",
       "      <th>Coefficient</th>\n",
       "    </tr>\n",
       "  </thead>\n",
       "  <tbody>\n",
       "    <tr>\n",
       "      <th>New Jersey</th>\n",
       "      <td>738.807029</td>\n",
       "    </tr>\n",
       "    <tr>\n",
       "      <th>summit_elev</th>\n",
       "      <td>29.526120</td>\n",
       "    </tr>\n",
       "    <tr>\n",
       "      <th>base_elev</th>\n",
       "      <td>26.798305</td>\n",
       "    </tr>\n",
       "    <tr>\n",
       "      <th>New York</th>\n",
       "      <td>19.555365</td>\n",
       "    </tr>\n",
       "    <tr>\n",
       "      <th>Michigan</th>\n",
       "      <td>16.277611</td>\n",
       "    </tr>\n",
       "    <tr>\n",
       "      <th>New Hampshire</th>\n",
       "      <td>15.886130</td>\n",
       "    </tr>\n",
       "    <tr>\n",
       "      <th>Pennsylvania</th>\n",
       "      <td>15.184512</td>\n",
       "    </tr>\n",
       "    <tr>\n",
       "      <th>Wisconsin</th>\n",
       "      <td>14.662033</td>\n",
       "    </tr>\n",
       "    <tr>\n",
       "      <th>California</th>\n",
       "      <td>13.915831</td>\n",
       "    </tr>\n",
       "    <tr>\n",
       "      <th>Vermont</th>\n",
       "      <td>12.593484</td>\n",
       "    </tr>\n",
       "  </tbody>\n",
       "</table>\n",
       "</div>"
      ],
      "text/plain": [
       "               Coefficient\n",
       "New Jersey      738.807029\n",
       "summit_elev      29.526120\n",
       "base_elev        26.798305\n",
       "New York         19.555365\n",
       "Michigan         16.277611\n",
       "New Hampshire    15.886130\n",
       "Pennsylvania     15.184512\n",
       "Wisconsin        14.662033\n",
       "California       13.915831\n",
       "Vermont          12.593484"
      ]
     },
     "execution_count": 372,
     "metadata": {},
     "output_type": "execute_result"
    }
   ],
   "source": [
    "# You might want to make a pandas DataFrame displaying the coefficients for each state like so: \n",
    "df1 = pd.DataFrame(abs(model.params), X.columns,columns=['Coefficient'])\n",
    "df1.sort_values(by = 'Coefficient',ascending=False).head(10)"
   ]
  },
  {
   "cell_type": "markdown",
   "metadata": {
    "colab_type": "text",
    "id": "BpdALMoAAnry"
   },
   "source": [
    "**<font color='teal'>You should see that the top ten important features are different states. However, the state is not something the managers at the Big Mountain Resort can do anything about. Given that we care more about actionable traits associated with ticket pricing, rebuild the model without the state features and compare the results. </font>**\n",
    "\n",
    "Hint: Try to construct another model using exactly the steps we followed above. "
   ]
  },
  {
   "cell_type": "markdown",
   "metadata": {
    "colab_type": "text",
    "id": "-mHYA1BzAnrz"
   },
   "source": [
    "#### Model 2"
   ]
  },
  {
   "cell_type": "code",
   "execution_count": 373,
   "metadata": {
    "colab": {},
    "colab_type": "code",
    "id": "Pz1YXAdiAnr0",
    "jupyter": {
     "outputs_hidden": true
    }
   },
   "outputs": [
    {
     "data": {
      "text/plain": [
       "Index(['New Jersey', 'summit_elev', 'base_elev', 'New York', 'Michigan',\n",
       "       'New Hampshire', 'Pennsylvania', 'Wisconsin', 'California', 'Vermont'],\n",
       "      dtype='object')"
      ]
     },
     "execution_count": 373,
     "metadata": {},
     "output_type": "execute_result"
    }
   ],
   "source": [
    "lst = df1.sort_values(by = 'Coefficient',ascending=False).head(10).index\n",
    "lst"
   ]
  },
  {
   "cell_type": "code",
   "execution_count": 470,
   "metadata": {},
   "outputs": [],
   "source": [
    "k = pd.concat([df.drop(['state'],axis=1),pd.get_dummies(df['state'])],axis=1)\n",
    "X = k.drop(['New Jersey', 'New York', 'Michigan', 'New Hampshire', 'Pennsylvania',\n",
    "       'Wisconsin', 'California', 'Vermont','Name','AdultWeekend'],axis=1)\n",
    "scaler = preprocessing.StandardScaler().fit(X)\n",
    "X_scaled=scaler.transform(X) \n",
    "y = k.AdultWeekend \n",
    "y = k['AdultWeekend'].ravel()"
   ]
  },
  {
   "cell_type": "code",
   "execution_count": 471,
   "metadata": {},
   "outputs": [],
   "source": [
    "X_train,X_test,y_train,y_test = train_test_split(X_scaled,y, test_size=0.25,random_state=12)"
   ]
  },
  {
   "cell_type": "code",
   "execution_count": 472,
   "metadata": {
    "colab": {},
    "colab_type": "code",
    "id": "nM1EGf16Anr2",
    "scrolled": true
   },
   "outputs": [
    {
     "data": {
      "text/html": [
       "<table class=\"simpletable\">\n",
       "<caption>OLS Regression Results</caption>\n",
       "<tr>\n",
       "  <th>Dep. Variable:</th>            <td>y</td>        <th>  R-squared:         </th> <td>   0.868</td>\n",
       "</tr>\n",
       "<tr>\n",
       "  <th>Model:</th>                   <td>OLS</td>       <th>  Adj. R-squared:    </th> <td>   0.800</td>\n",
       "</tr>\n",
       "<tr>\n",
       "  <th>Method:</th>             <td>Least Squares</td>  <th>  F-statistic:       </th> <td>   12.61</td>\n",
       "</tr>\n",
       "<tr>\n",
       "  <th>Date:</th>             <td>Sun, 21 Jun 2020</td> <th>  Prob (F-statistic):</th> <td>4.92e-23</td>\n",
       "</tr>\n",
       "<tr>\n",
       "  <th>Time:</th>                 <td>20:07:00</td>     <th>  Log-Likelihood:    </th> <td> -411.39</td>\n",
       "</tr>\n",
       "<tr>\n",
       "  <th>No. Observations:</th>      <td>   132</td>      <th>  AIC:               </th> <td>   914.8</td>\n",
       "</tr>\n",
       "<tr>\n",
       "  <th>Df Residuals:</th>          <td>    86</td>      <th>  BIC:               </th> <td>   1047.</td>\n",
       "</tr>\n",
       "<tr>\n",
       "  <th>Df Model:</th>              <td>    45</td>      <th>                     </th>     <td> </td>   \n",
       "</tr>\n",
       "<tr>\n",
       "  <th>Covariance Type:</th>      <td>nonrobust</td>    <th>                     </th>     <td> </td>   \n",
       "</tr>\n",
       "</table>\n",
       "<table class=\"simpletable\">\n",
       "<tr>\n",
       "    <td></td>       <th>coef</th>     <th>std err</th>      <th>t</th>      <th>P>|t|</th>  <th>[0.025</th>    <th>0.975]</th>  \n",
       "</tr>\n",
       "<tr>\n",
       "  <th>x1</th>    <td>  -30.7265</td> <td>   52.926</td> <td>   -0.581</td> <td> 0.563</td> <td> -135.940</td> <td>   74.487</td>\n",
       "</tr>\n",
       "<tr>\n",
       "  <th>x2</th>    <td>    9.7037</td> <td>    9.858</td> <td>    0.984</td> <td> 0.328</td> <td>   -9.893</td> <td>   29.300</td>\n",
       "</tr>\n",
       "<tr>\n",
       "  <th>x3</th>    <td>   21.5869</td> <td>   47.274</td> <td>    0.457</td> <td> 0.649</td> <td>  -72.391</td> <td>  115.565</td>\n",
       "</tr>\n",
       "<tr>\n",
       "  <th>const</th> <td>-2.555e-13</td> <td> 1.83e-14</td> <td>  -13.981</td> <td> 0.000</td> <td>-2.92e-13</td> <td>-2.19e-13</td>\n",
       "</tr>\n",
       "<tr>\n",
       "  <th>x4</th>    <td> 4.964e-13</td> <td> 2.72e-14</td> <td>   18.224</td> <td> 0.000</td> <td> 4.42e-13</td> <td> 5.51e-13</td>\n",
       "</tr>\n",
       "<tr>\n",
       "  <th>x5</th>    <td>-4.458e-13</td> <td> 9.87e-15</td> <td>  -45.192</td> <td> 0.000</td> <td>-4.65e-13</td> <td>-4.26e-13</td>\n",
       "</tr>\n",
       "<tr>\n",
       "  <th>x6</th>    <td>    1.3058</td> <td>    0.921</td> <td>    1.417</td> <td> 0.160</td> <td>   -0.526</td> <td>    3.137</td>\n",
       "</tr>\n",
       "<tr>\n",
       "  <th>x7</th>    <td>    1.6902</td> <td>    0.797</td> <td>    2.120</td> <td> 0.037</td> <td>    0.106</td> <td>    3.275</td>\n",
       "</tr>\n",
       "<tr>\n",
       "  <th>x8</th>    <td>    1.4801</td> <td>    0.803</td> <td>    1.844</td> <td> 0.069</td> <td>   -0.116</td> <td>    3.076</td>\n",
       "</tr>\n",
       "<tr>\n",
       "  <th>x9</th>    <td>    0.5496</td> <td>    0.663</td> <td>    0.829</td> <td> 0.409</td> <td>   -0.768</td> <td>    1.867</td>\n",
       "</tr>\n",
       "<tr>\n",
       "  <th>x10</th>   <td>   -1.4534</td> <td>    0.690</td> <td>   -2.107</td> <td> 0.038</td> <td>   -2.825</td> <td>   -0.082</td>\n",
       "</tr>\n",
       "<tr>\n",
       "  <th>x11</th>   <td>    0.9121</td> <td>    0.455</td> <td>    2.004</td> <td> 0.048</td> <td>    0.007</td> <td>    1.817</td>\n",
       "</tr>\n",
       "<tr>\n",
       "  <th>x12</th>   <td>    2.1433</td> <td>    1.476</td> <td>    1.452</td> <td> 0.150</td> <td>   -0.790</td> <td>    5.077</td>\n",
       "</tr>\n",
       "<tr>\n",
       "  <th>x13</th>   <td>    0.4348</td> <td>    0.815</td> <td>    0.533</td> <td> 0.595</td> <td>   -1.186</td> <td>    2.056</td>\n",
       "</tr>\n",
       "<tr>\n",
       "  <th>x14</th>   <td>    1.2436</td> <td>    0.989</td> <td>    1.257</td> <td> 0.212</td> <td>   -0.723</td> <td>    3.211</td>\n",
       "</tr>\n",
       "<tr>\n",
       "  <th>x15</th>   <td>   -3.1139</td> <td>    1.365</td> <td>   -2.281</td> <td> 0.025</td> <td>   -5.827</td> <td>   -0.400</td>\n",
       "</tr>\n",
       "<tr>\n",
       "  <th>x16</th>   <td>   -0.3758</td> <td>    1.024</td> <td>   -0.367</td> <td> 0.715</td> <td>   -2.411</td> <td>    1.660</td>\n",
       "</tr>\n",
       "<tr>\n",
       "  <th>x17</th>   <td>    0.2359</td> <td>    1.068</td> <td>    0.221</td> <td> 0.826</td> <td>   -1.888</td> <td>    2.360</td>\n",
       "</tr>\n",
       "<tr>\n",
       "  <th>x18</th>   <td>    0.8231</td> <td>    0.789</td> <td>    1.044</td> <td> 0.300</td> <td>   -0.745</td> <td>    2.391</td>\n",
       "</tr>\n",
       "<tr>\n",
       "  <th>x19</th>   <td>    0.1683</td> <td>    1.295</td> <td>    0.130</td> <td> 0.897</td> <td>   -2.406</td> <td>    2.743</td>\n",
       "</tr>\n",
       "<tr>\n",
       "  <th>x20</th>   <td>    8.3836</td> <td>    1.071</td> <td>    7.825</td> <td> 0.000</td> <td>    6.254</td> <td>   10.513</td>\n",
       "</tr>\n",
       "<tr>\n",
       "  <th>x21</th>   <td>   -1.5498</td> <td>    1.195</td> <td>   -1.297</td> <td> 0.198</td> <td>   -3.924</td> <td>    0.825</td>\n",
       "</tr>\n",
       "<tr>\n",
       "  <th>x22</th>   <td>    0.0996</td> <td>    0.761</td> <td>    0.131</td> <td> 0.896</td> <td>   -1.414</td> <td>    1.613</td>\n",
       "</tr>\n",
       "<tr>\n",
       "  <th>x23</th>   <td>    8.1714</td> <td>    4.689</td> <td>    1.743</td> <td> 0.085</td> <td>   -1.150</td> <td>   17.492</td>\n",
       "</tr>\n",
       "<tr>\n",
       "  <th>x24</th>   <td>   -0.0729</td> <td>    0.587</td> <td>   -0.124</td> <td> 0.901</td> <td>   -1.240</td> <td>    1.094</td>\n",
       "</tr>\n",
       "<tr>\n",
       "  <th>x25</th>   <td> -374.6468</td> <td>    4.649</td> <td>  -80.581</td> <td> 0.000</td> <td> -383.889</td> <td> -365.404</td>\n",
       "</tr>\n",
       "<tr>\n",
       "  <th>x26</th>   <td>   -3.3680</td> <td>    1.922</td> <td>   -1.753</td> <td> 0.083</td> <td>   -7.188</td> <td>    0.452</td>\n",
       "</tr>\n",
       "<tr>\n",
       "  <th>x27</th>   <td>    0.6434</td> <td>    0.757</td> <td>    0.850</td> <td> 0.398</td> <td>   -0.862</td> <td>    2.148</td>\n",
       "</tr>\n",
       "<tr>\n",
       "  <th>x28</th>   <td>   -2.3275</td> <td>    0.981</td> <td>   -2.372</td> <td> 0.020</td> <td>   -4.278</td> <td>   -0.377</td>\n",
       "</tr>\n",
       "<tr>\n",
       "  <th>x29</th>   <td>   -0.6657</td> <td>    0.588</td> <td>   -1.133</td> <td> 0.260</td> <td>   -1.834</td> <td>    0.502</td>\n",
       "</tr>\n",
       "<tr>\n",
       "  <th>x30</th>   <td>   -0.9570</td> <td>    0.585</td> <td>   -1.635</td> <td> 0.106</td> <td>   -2.120</td> <td>    0.206</td>\n",
       "</tr>\n",
       "<tr>\n",
       "  <th>x31</th>   <td>   -0.5266</td> <td>    0.581</td> <td>   -0.907</td> <td> 0.367</td> <td>   -1.681</td> <td>    0.628</td>\n",
       "</tr>\n",
       "<tr>\n",
       "  <th>x32</th>   <td>   -1.7226</td> <td>    1.258</td> <td>   -1.370</td> <td> 0.174</td> <td>   -4.223</td> <td>    0.777</td>\n",
       "</tr>\n",
       "<tr>\n",
       "  <th>x33</th>   <td>    0.8720</td> <td>    0.596</td> <td>    1.463</td> <td> 0.147</td> <td>   -0.313</td> <td>    2.057</td>\n",
       "</tr>\n",
       "<tr>\n",
       "  <th>x34</th>   <td>    0.4769</td> <td>    0.774</td> <td>    0.616</td> <td> 0.539</td> <td>   -1.061</td> <td>    2.015</td>\n",
       "</tr>\n",
       "<tr>\n",
       "  <th>x35</th>   <td>   -0.7411</td> <td>    0.613</td> <td>   -1.209</td> <td> 0.230</td> <td>   -1.960</td> <td>    0.478</td>\n",
       "</tr>\n",
       "<tr>\n",
       "  <th>x36</th>   <td>   -0.0829</td> <td>    0.576</td> <td>   -0.144</td> <td> 0.886</td> <td>   -1.228</td> <td>    1.062</td>\n",
       "</tr>\n",
       "<tr>\n",
       "  <th>x37</th>   <td>   -2.4975</td> <td>    0.893</td> <td>   -2.796</td> <td> 0.006</td> <td>   -4.273</td> <td>   -0.722</td>\n",
       "</tr>\n",
       "<tr>\n",
       "  <th>x38</th>   <td> -374.6468</td> <td>    4.649</td> <td>  -80.581</td> <td> 0.000</td> <td> -383.889</td> <td> -365.404</td>\n",
       "</tr>\n",
       "<tr>\n",
       "  <th>x39</th>   <td>   -3.2976</td> <td>    1.588</td> <td>   -2.076</td> <td> 0.041</td> <td>   -6.455</td> <td>   -0.140</td>\n",
       "</tr>\n",
       "<tr>\n",
       "  <th>x40</th>   <td>    1.1242</td> <td>    0.876</td> <td>    1.284</td> <td> 0.203</td> <td>   -0.616</td> <td>    2.865</td>\n",
       "</tr>\n",
       "<tr>\n",
       "  <th>x41</th>   <td>   -0.7873</td> <td>    0.602</td> <td>   -1.308</td> <td> 0.194</td> <td>   -1.984</td> <td>    0.409</td>\n",
       "</tr>\n",
       "<tr>\n",
       "  <th>x42</th>   <td>   -0.1259</td> <td>    0.829</td> <td>   -0.152</td> <td> 0.880</td> <td>   -1.774</td> <td>    1.523</td>\n",
       "</tr>\n",
       "<tr>\n",
       "  <th>x43</th>   <td>    0.6437</td> <td>    0.539</td> <td>    1.195</td> <td> 0.235</td> <td>   -0.427</td> <td>    1.714</td>\n",
       "</tr>\n",
       "<tr>\n",
       "  <th>x44</th>   <td>   -1.2169</td> <td>    0.654</td> <td>   -1.862</td> <td> 0.066</td> <td>   -2.516</td> <td>    0.082</td>\n",
       "</tr>\n",
       "<tr>\n",
       "  <th>x45</th>   <td>    1.8803</td> <td>    0.628</td> <td>    2.995</td> <td> 0.004</td> <td>    0.632</td> <td>    3.128</td>\n",
       "</tr>\n",
       "<tr>\n",
       "  <th>x46</th>   <td>   -1.2015</td> <td>    0.712</td> <td>   -1.688</td> <td> 0.095</td> <td>   -2.616</td> <td>    0.213</td>\n",
       "</tr>\n",
       "<tr>\n",
       "  <th>x47</th>   <td>    1.6414</td> <td>    0.550</td> <td>    2.985</td> <td> 0.004</td> <td>    0.548</td> <td>    2.734</td>\n",
       "</tr>\n",
       "<tr>\n",
       "  <th>x48</th>   <td>   -1.3331</td> <td>    0.951</td> <td>   -1.401</td> <td> 0.165</td> <td>   -3.224</td> <td>    0.558</td>\n",
       "</tr>\n",
       "<tr>\n",
       "  <th>x49</th>   <td>    3.1054</td> <td>    1.001</td> <td>    3.103</td> <td> 0.003</td> <td>    1.116</td> <td>    5.095</td>\n",
       "</tr>\n",
       "<tr>\n",
       "  <th>x50</th>   <td>   -2.7190</td> <td>    1.048</td> <td>   -2.595</td> <td> 0.011</td> <td>   -4.802</td> <td>   -0.636</td>\n",
       "</tr>\n",
       "</table>\n",
       "<table class=\"simpletable\">\n",
       "<tr>\n",
       "  <th>Omnibus:</th>       <td> 7.511</td> <th>  Durbin-Watson:     </th> <td>   2.268</td>\n",
       "</tr>\n",
       "<tr>\n",
       "  <th>Prob(Omnibus):</th> <td> 0.023</td> <th>  Jarque-Bera (JB):  </th> <td>  11.648</td>\n",
       "</tr>\n",
       "<tr>\n",
       "  <th>Skew:</th>          <td> 0.224</td> <th>  Prob(JB):          </th> <td> 0.00296</td>\n",
       "</tr>\n",
       "<tr>\n",
       "  <th>Kurtosis:</th>      <td> 4.385</td> <th>  Cond. No.          </th> <td>1.21e+16</td>\n",
       "</tr>\n",
       "</table><br/><br/>Warnings:<br/>[1] Standard Errors assume that the covariance matrix of the errors is correctly specified.<br/>[2] The smallest eigenvalue is 5.97e-30. This might indicate that there are<br/>strong multicollinearity problems or that the design matrix is singular."
      ],
      "text/plain": [
       "<class 'statsmodels.iolib.summary.Summary'>\n",
       "\"\"\"\n",
       "                            OLS Regression Results                            \n",
       "==============================================================================\n",
       "Dep. Variable:                      y   R-squared:                       0.868\n",
       "Model:                            OLS   Adj. R-squared:                  0.800\n",
       "Method:                 Least Squares   F-statistic:                     12.61\n",
       "Date:                Sun, 21 Jun 2020   Prob (F-statistic):           4.92e-23\n",
       "Time:                        20:07:00   Log-Likelihood:                -411.39\n",
       "No. Observations:                 132   AIC:                             914.8\n",
       "Df Residuals:                      86   BIC:                             1047.\n",
       "Df Model:                          45                                         \n",
       "Covariance Type:            nonrobust                                         \n",
       "==============================================================================\n",
       "                 coef    std err          t      P>|t|      [0.025      0.975]\n",
       "------------------------------------------------------------------------------\n",
       "x1           -30.7265     52.926     -0.581      0.563    -135.940      74.487\n",
       "x2             9.7037      9.858      0.984      0.328      -9.893      29.300\n",
       "x3            21.5869     47.274      0.457      0.649     -72.391     115.565\n",
       "const      -2.555e-13   1.83e-14    -13.981      0.000   -2.92e-13   -2.19e-13\n",
       "x4          4.964e-13   2.72e-14     18.224      0.000    4.42e-13    5.51e-13\n",
       "x5         -4.458e-13   9.87e-15    -45.192      0.000   -4.65e-13   -4.26e-13\n",
       "x6             1.3058      0.921      1.417      0.160      -0.526       3.137\n",
       "x7             1.6902      0.797      2.120      0.037       0.106       3.275\n",
       "x8             1.4801      0.803      1.844      0.069      -0.116       3.076\n",
       "x9             0.5496      0.663      0.829      0.409      -0.768       1.867\n",
       "x10           -1.4534      0.690     -2.107      0.038      -2.825      -0.082\n",
       "x11            0.9121      0.455      2.004      0.048       0.007       1.817\n",
       "x12            2.1433      1.476      1.452      0.150      -0.790       5.077\n",
       "x13            0.4348      0.815      0.533      0.595      -1.186       2.056\n",
       "x14            1.2436      0.989      1.257      0.212      -0.723       3.211\n",
       "x15           -3.1139      1.365     -2.281      0.025      -5.827      -0.400\n",
       "x16           -0.3758      1.024     -0.367      0.715      -2.411       1.660\n",
       "x17            0.2359      1.068      0.221      0.826      -1.888       2.360\n",
       "x18            0.8231      0.789      1.044      0.300      -0.745       2.391\n",
       "x19            0.1683      1.295      0.130      0.897      -2.406       2.743\n",
       "x20            8.3836      1.071      7.825      0.000       6.254      10.513\n",
       "x21           -1.5498      1.195     -1.297      0.198      -3.924       0.825\n",
       "x22            0.0996      0.761      0.131      0.896      -1.414       1.613\n",
       "x23            8.1714      4.689      1.743      0.085      -1.150      17.492\n",
       "x24           -0.0729      0.587     -0.124      0.901      -1.240       1.094\n",
       "x25         -374.6468      4.649    -80.581      0.000    -383.889    -365.404\n",
       "x26           -3.3680      1.922     -1.753      0.083      -7.188       0.452\n",
       "x27            0.6434      0.757      0.850      0.398      -0.862       2.148\n",
       "x28           -2.3275      0.981     -2.372      0.020      -4.278      -0.377\n",
       "x29           -0.6657      0.588     -1.133      0.260      -1.834       0.502\n",
       "x30           -0.9570      0.585     -1.635      0.106      -2.120       0.206\n",
       "x31           -0.5266      0.581     -0.907      0.367      -1.681       0.628\n",
       "x32           -1.7226      1.258     -1.370      0.174      -4.223       0.777\n",
       "x33            0.8720      0.596      1.463      0.147      -0.313       2.057\n",
       "x34            0.4769      0.774      0.616      0.539      -1.061       2.015\n",
       "x35           -0.7411      0.613     -1.209      0.230      -1.960       0.478\n",
       "x36           -0.0829      0.576     -0.144      0.886      -1.228       1.062\n",
       "x37           -2.4975      0.893     -2.796      0.006      -4.273      -0.722\n",
       "x38         -374.6468      4.649    -80.581      0.000    -383.889    -365.404\n",
       "x39           -3.2976      1.588     -2.076      0.041      -6.455      -0.140\n",
       "x40            1.1242      0.876      1.284      0.203      -0.616       2.865\n",
       "x41           -0.7873      0.602     -1.308      0.194      -1.984       0.409\n",
       "x42           -0.1259      0.829     -0.152      0.880      -1.774       1.523\n",
       "x43            0.6437      0.539      1.195      0.235      -0.427       1.714\n",
       "x44           -1.2169      0.654     -1.862      0.066      -2.516       0.082\n",
       "x45            1.8803      0.628      2.995      0.004       0.632       3.128\n",
       "x46           -1.2015      0.712     -1.688      0.095      -2.616       0.213\n",
       "x47            1.6414      0.550      2.985      0.004       0.548       2.734\n",
       "x48           -1.3331      0.951     -1.401      0.165      -3.224       0.558\n",
       "x49            3.1054      1.001      3.103      0.003       1.116       5.095\n",
       "x50           -2.7190      1.048     -2.595      0.011      -4.802      -0.636\n",
       "==============================================================================\n",
       "Omnibus:                        7.511   Durbin-Watson:                   2.268\n",
       "Prob(Omnibus):                  0.023   Jarque-Bera (JB):               11.648\n",
       "Skew:                           0.224   Prob(JB):                      0.00296\n",
       "Kurtosis:                       4.385   Cond. No.                     1.21e+16\n",
       "==============================================================================\n",
       "\n",
       "Warnings:\n",
       "[1] Standard Errors assume that the covariance matrix of the errors is correctly specified.\n",
       "[2] The smallest eigenvalue is 5.97e-30. This might indicate that there are\n",
       "strong multicollinearity problems or that the design matrix is singular.\n",
       "\"\"\""
      ]
     },
     "execution_count": 472,
     "metadata": {},
     "output_type": "execute_result"
    }
   ],
   "source": [
    "import statsmodels.api as sm\n",
    "X_train = sm.add_constant(X_train)\n",
    "model = sm.OLS(y_train,X_train)\n",
    "model = model.fit()\n",
    "model.summary()"
   ]
  },
  {
   "cell_type": "code",
   "execution_count": 473,
   "metadata": {},
   "outputs": [
    {
     "data": {
      "text/plain": [
       "(-5013.416582311873, 234.56700108921552)"
      ]
     },
     "execution_count": 473,
     "metadata": {},
     "output_type": "execute_result"
    }
   ],
   "source": [
    "y_pred =model.predict(X_test)\n",
    "explained_variance_score(y_test,y_pred), mean_absolute_error(y_test,y_pred)"
   ]
  },
  {
   "cell_type": "code",
   "execution_count": 474,
   "metadata": {},
   "outputs": [
    {
     "data": {
      "text/html": [
       "<div>\n",
       "<style scoped>\n",
       "    .dataframe tbody tr th:only-of-type {\n",
       "        vertical-align: middle;\n",
       "    }\n",
       "\n",
       "    .dataframe tbody tr th {\n",
       "        vertical-align: top;\n",
       "    }\n",
       "\n",
       "    .dataframe thead th {\n",
       "        text-align: right;\n",
       "    }\n",
       "</style>\n",
       "<table border=\"1\" class=\"dataframe\">\n",
       "  <thead>\n",
       "    <tr style=\"text-align: right;\">\n",
       "      <th></th>\n",
       "      <th>Coefficient</th>\n",
       "    </tr>\n",
       "  </thead>\n",
       "  <tbody>\n",
       "    <tr>\n",
       "      <th>Arizona</th>\n",
       "      <td>374.646823</td>\n",
       "    </tr>\n",
       "    <tr>\n",
       "      <th>Nevada</th>\n",
       "      <td>374.646823</td>\n",
       "    </tr>\n",
       "    <tr>\n",
       "      <th>summit_elev</th>\n",
       "      <td>30.726548</td>\n",
       "    </tr>\n",
       "    <tr>\n",
       "      <th>base_elev</th>\n",
       "      <td>21.586860</td>\n",
       "    </tr>\n",
       "    <tr>\n",
       "      <th>vertical_drop</th>\n",
       "      <td>9.703731</td>\n",
       "    </tr>\n",
       "    <tr>\n",
       "      <th>AdultWeekday</th>\n",
       "      <td>8.383618</td>\n",
       "    </tr>\n",
       "    <tr>\n",
       "      <th>clusters</th>\n",
       "      <td>8.171367</td>\n",
       "    </tr>\n",
       "    <tr>\n",
       "      <th>Colorado</th>\n",
       "      <td>3.368048</td>\n",
       "    </tr>\n",
       "    <tr>\n",
       "      <th>New Mexico</th>\n",
       "      <td>3.297554</td>\n",
       "    </tr>\n",
       "    <tr>\n",
       "      <th>SkiableTerrain_ac</th>\n",
       "      <td>3.113892</td>\n",
       "    </tr>\n",
       "  </tbody>\n",
       "</table>\n",
       "</div>"
      ],
      "text/plain": [
       "                   Coefficient\n",
       "Arizona             374.646823\n",
       "Nevada              374.646823\n",
       "summit_elev          30.726548\n",
       "base_elev            21.586860\n",
       "vertical_drop         9.703731\n",
       "AdultWeekday          8.383618\n",
       "clusters              8.171367\n",
       "Colorado              3.368048\n",
       "New Mexico            3.297554\n",
       "SkiableTerrain_ac     3.113892"
      ]
     },
     "execution_count": 474,
     "metadata": {},
     "output_type": "execute_result"
    }
   ],
   "source": [
    "explained_variance_score(y_test,y_pred), mean_absolute_error(y_test,y_pred)\n",
    "df1 = pd.DataFrame(abs(model.params), X.columns,columns=['Coefficient'])\n",
    "df1.sort_values(by = 'Coefficient',ascending=False).head(10)"
   ]
  },
  {
   "cell_type": "markdown",
   "metadata": {
    "colab_type": "text",
    "id": "JWjQLr3LAnr6"
   },
   "source": [
    "**<font color='teal'> When reviewing our new model coefficients, we see `summit_elev` is now in the number two spot. This is also difficult to change from a management prespective and highly correlated with `base_elev` and `vertical_drop`.  This time, rebuild the model without the state features and without the `summit_elev` and without `base_elev`and compare the results. </font>**"
   ]
  },
  {
   "cell_type": "markdown",
   "metadata": {
    "colab_type": "text",
    "id": "RXqvcn93Anr7"
   },
   "source": [
    "#### Model 3"
   ]
  },
  {
   "cell_type": "code",
   "execution_count": 34,
   "metadata": {
    "colab": {},
    "colab_type": "code",
    "id": "6eugnDNNAnr8",
    "jupyter": {
     "outputs_hidden": true
    }
   },
   "outputs": [
    {
     "data": {
      "text/html": [
       "<div>\n",
       "<style scoped>\n",
       "    .dataframe tbody tr th:only-of-type {\n",
       "        vertical-align: middle;\n",
       "    }\n",
       "\n",
       "    .dataframe tbody tr th {\n",
       "        vertical-align: top;\n",
       "    }\n",
       "\n",
       "    .dataframe thead th {\n",
       "        text-align: right;\n",
       "    }\n",
       "</style>\n",
       "<table border=\"1\" class=\"dataframe\">\n",
       "  <thead>\n",
       "    <tr style=\"text-align: right;\">\n",
       "      <th></th>\n",
       "      <th>Coefficient</th>\n",
       "    </tr>\n",
       "  </thead>\n",
       "  <tbody>\n",
       "    <tr>\n",
       "      <th>vertical_drop</th>\n",
       "      <td>8.309728</td>\n",
       "    </tr>\n",
       "    <tr>\n",
       "      <th>Snow Making_ac</th>\n",
       "      <td>6.175149</td>\n",
       "    </tr>\n",
       "    <tr>\n",
       "      <th>SkiableTerrain_ac</th>\n",
       "      <td>5.460195</td>\n",
       "    </tr>\n",
       "    <tr>\n",
       "      <th>Runs</th>\n",
       "      <td>5.400427</td>\n",
       "    </tr>\n",
       "    <tr>\n",
       "      <th>fastQuads</th>\n",
       "      <td>4.174327</td>\n",
       "    </tr>\n",
       "    <tr>\n",
       "      <th>quad</th>\n",
       "      <td>3.591693</td>\n",
       "    </tr>\n",
       "    <tr>\n",
       "      <th>trams</th>\n",
       "      <td>3.095555</td>\n",
       "    </tr>\n",
       "    <tr>\n",
       "      <th>triple</th>\n",
       "      <td>3.091791</td>\n",
       "    </tr>\n",
       "    <tr>\n",
       "      <th>surface</th>\n",
       "      <td>3.022515</td>\n",
       "    </tr>\n",
       "    <tr>\n",
       "      <th>daysOpenLastYear</th>\n",
       "      <td>2.821945</td>\n",
       "    </tr>\n",
       "  </tbody>\n",
       "</table>\n",
       "</div>"
      ],
      "text/plain": [
       "                   Coefficient\n",
       "vertical_drop         8.309728\n",
       "Snow Making_ac        6.175149\n",
       "SkiableTerrain_ac     5.460195\n",
       "Runs                  5.400427\n",
       "fastQuads             4.174327\n",
       "quad                  3.591693\n",
       "trams                 3.095555\n",
       "triple                3.091791\n",
       "surface               3.022515\n",
       "daysOpenLastYear      2.821945"
      ]
     },
     "execution_count": 34,
     "metadata": {},
     "output_type": "execute_result"
    }
   ],
   "source": [
    "X1 = X.drop(['summit_elev','base_elev'],axis=1)\n",
    "scaler = preprocessing.StandardScaler().fit(X1)\n",
    "X_scaled=scaler.transform(X1) \n",
    "X_train,X_test,y_train,y_test = train_test_split(X_scaled,y,test_size=0.25,random_state=1)\n",
    "model = lm.fit(X_train,y_train)\n",
    "df2 = pd.DataFrame(abs(model.coef_),X1.columns,columns=['Coefficient'])\n",
    "df2.sort_values(by = 'Coefficient',ascending=False).head(10)"
   ]
  },
  {
   "cell_type": "code",
   "execution_count": 33,
   "metadata": {},
   "outputs": [
    {
     "data": {
      "text/plain": [
       "(0.3048384086313497, 14.345420066684458)"
      ]
     },
     "execution_count": 33,
     "metadata": {},
     "output_type": "execute_result"
    }
   ],
   "source": [
    "y_pred =model.predict(X_test)\n",
    "explained_variance_score(y_test,y_pred), mean_absolute_error(y_test,y_pred)"
   ]
  },
  {
   "cell_type": "markdown",
   "metadata": {
    "colab_type": "text",
    "id": "MJvQMns6AnsI"
   },
   "source": [
    "## Identify the Final Model"
   ]
  },
  {
   "cell_type": "markdown",
   "metadata": {
    "colab_type": "text",
    "id": "LD7-3iLcAnsK"
   },
   "source": [
    "**<font color='teal'> Review the model performances in the table below and choose the best model for proving insights to Big Mountain management about what features are driving ski resort lift ticket prices. Type your choice in the final markdown cell — you will discuss this selection more in the next step of the guided casptone. </font>**"
   ]
  },
  {
   "cell_type": "markdown",
   "metadata": {
    "colab_type": "text",
    "id": "La5S9fRPAnsK"
   },
   "source": [
    "| Model | Explained Variance| Mean Absolute Error|Features Dropped|\n",
    "| --- | --- | --- | --- |\n",
    "| Model 1. | -5599.51| 269.799 |-|\n",
    "| Model 2. | 0.3302| 13.1015|'state'|\n",
    "| Model 3. | 0.3048| 14.3542|'state','summit_elev','base_elev'|"
   ]
  },
  {
   "cell_type": "markdown",
   "metadata": {
    "colab_type": "text",
    "id": "T2c-zn7TAnsL"
   },
   "source": [
    "Model Selection:"
   ]
  },
  {
   "cell_type": "code",
   "execution_count": 21,
   "metadata": {},
   "outputs": [
    {
     "data": {
      "text/html": [
       "<div>\n",
       "<style scoped>\n",
       "    .dataframe tbody tr th:only-of-type {\n",
       "        vertical-align: middle;\n",
       "    }\n",
       "\n",
       "    .dataframe tbody tr th {\n",
       "        vertical-align: top;\n",
       "    }\n",
       "\n",
       "    .dataframe thead th {\n",
       "        text-align: right;\n",
       "    }\n",
       "</style>\n",
       "<table border=\"1\" class=\"dataframe\">\n",
       "  <thead>\n",
       "    <tr style=\"text-align: right;\">\n",
       "      <th></th>\n",
       "      <th>Coefficient</th>\n",
       "    </tr>\n",
       "  </thead>\n",
       "  <tbody>\n",
       "    <tr>\n",
       "      <th>Tennessee</th>\n",
       "      <td>586.718899</td>\n",
       "    </tr>\n",
       "    <tr>\n",
       "      <th>fastEight</th>\n",
       "      <td>586.718899</td>\n",
       "    </tr>\n",
       "    <tr>\n",
       "      <th>vertical_drop</th>\n",
       "      <td>10.660132</td>\n",
       "    </tr>\n",
       "    <tr>\n",
       "      <th>Utah</th>\n",
       "      <td>10.576591</td>\n",
       "    </tr>\n",
       "    <tr>\n",
       "      <th>Runs</th>\n",
       "      <td>10.468323</td>\n",
       "    </tr>\n",
       "    <tr>\n",
       "      <th>New York</th>\n",
       "      <td>10.211580</td>\n",
       "    </tr>\n",
       "    <tr>\n",
       "      <th>summit_elev</th>\n",
       "      <td>10.116384</td>\n",
       "    </tr>\n",
       "    <tr>\n",
       "      <th>California</th>\n",
       "      <td>9.884108</td>\n",
       "    </tr>\n",
       "    <tr>\n",
       "      <th>Pennsylvania</th>\n",
       "      <td>9.788015</td>\n",
       "    </tr>\n",
       "    <tr>\n",
       "      <th>Michigan</th>\n",
       "      <td>9.272432</td>\n",
       "    </tr>\n",
       "  </tbody>\n",
       "</table>\n",
       "</div>"
      ],
      "text/plain": [
       "               Coefficient\n",
       "Tennessee       586.718899\n",
       "fastEight       586.718899\n",
       "vertical_drop    10.660132\n",
       "Utah             10.576591\n",
       "Runs             10.468323\n",
       "New York         10.211580\n",
       "summit_elev      10.116384\n",
       "California        9.884108\n",
       "Pennsylvania      9.788015\n",
       "Michigan          9.272432"
      ]
     },
     "execution_count": 21,
     "metadata": {},
     "output_type": "execute_result"
    }
   ],
   "source": [
    "from sklearn import linear_model\n",
    "from sklearn.metrics import explained_variance_score,mean_absolute_error\n",
    "df = pd.read_csv('step3_revised_data',index_col=0)\n",
    "lm = linear_model.LinearRegression()\n",
    "k = pd.concat([df.drop(['state'],axis=1),pd.get_dummies(df['state'])],axis=1)\n",
    "X = k.drop(['Name','AdultWeekend','AdultWeekday'],axis=1)\n",
    "scaler = preprocessing.StandardScaler().fit(X)\n",
    "X_scaled=scaler.transform(X) \n",
    "y = k.AdultWeekend \n",
    "y = k['AdultWeekend'].ravel()\n",
    "X_train,X_test,y_train,y_test = train_test_split(X_scaled,y, test_size=0.25,random_state=12)\n",
    "X_train = sm.add_constant(X_train)\n",
    "model = sm.OLS(y_train,X_train)\n",
    "model = model.fit()\n",
    "df2 = pd.DataFrame(abs(model.params),X.columns,columns=['Coefficient'])\n",
    "df2.sort_values(by = 'Coefficient',ascending=False).head(10)"
   ]
  },
  {
   "cell_type": "code",
   "execution_count": 22,
   "metadata": {},
   "outputs": [
    {
     "data": {
      "text/plain": [
       "(-5599.38989534983, 269.9123053756259)"
      ]
     },
     "execution_count": 22,
     "metadata": {},
     "output_type": "execute_result"
    }
   ],
   "source": [
    "y_pred =model.predict(X_test)\n",
    "explained_variance_score(y_test,y_pred), mean_absolute_error(y_test,y_pred)"
   ]
  },
  {
   "cell_type": "code",
   "execution_count": 30,
   "metadata": {
    "colab": {},
    "colab_type": "code",
    "id": "CgC0eMBrAnsM"
   },
   "outputs": [
    {
     "data": {
      "text/html": [
       "<div>\n",
       "<style scoped>\n",
       "    .dataframe tbody tr th:only-of-type {\n",
       "        vertical-align: middle;\n",
       "    }\n",
       "\n",
       "    .dataframe tbody tr th {\n",
       "        vertical-align: top;\n",
       "    }\n",
       "\n",
       "    .dataframe thead th {\n",
       "        text-align: right;\n",
       "    }\n",
       "</style>\n",
       "<table border=\"1\" class=\"dataframe\">\n",
       "  <thead>\n",
       "    <tr style=\"text-align: right;\">\n",
       "      <th></th>\n",
       "      <th>Coefficient</th>\n",
       "    </tr>\n",
       "  </thead>\n",
       "  <tbody>\n",
       "    <tr>\n",
       "      <th>Runs</th>\n",
       "      <td>8.747491</td>\n",
       "    </tr>\n",
       "    <tr>\n",
       "      <th>SkiableTerrain_ac</th>\n",
       "      <td>7.821495</td>\n",
       "    </tr>\n",
       "    <tr>\n",
       "      <th>summit_elev</th>\n",
       "      <td>6.339789</td>\n",
       "    </tr>\n",
       "    <tr>\n",
       "      <th>base_elev</th>\n",
       "      <td>5.621068</td>\n",
       "    </tr>\n",
       "    <tr>\n",
       "      <th>fastQuads</th>\n",
       "      <td>5.084209</td>\n",
       "    </tr>\n",
       "    <tr>\n",
       "      <th>vertical_drop</th>\n",
       "      <td>4.553922</td>\n",
       "    </tr>\n",
       "    <tr>\n",
       "      <th>triple</th>\n",
       "      <td>3.514875</td>\n",
       "    </tr>\n",
       "    <tr>\n",
       "      <th>surface</th>\n",
       "      <td>3.405169</td>\n",
       "    </tr>\n",
       "    <tr>\n",
       "      <th>quad</th>\n",
       "      <td>2.766515</td>\n",
       "    </tr>\n",
       "    <tr>\n",
       "      <th>total_chairs</th>\n",
       "      <td>2.171289</td>\n",
       "    </tr>\n",
       "  </tbody>\n",
       "</table>\n",
       "</div>"
      ],
      "text/plain": [
       "                   Coefficient\n",
       "Runs                  8.747491\n",
       "SkiableTerrain_ac     7.821495\n",
       "summit_elev           6.339789\n",
       "base_elev             5.621068\n",
       "fastQuads             5.084209\n",
       "vertical_drop         4.553922\n",
       "triple                3.514875\n",
       "surface               3.405169\n",
       "quad                  2.766515\n",
       "total_chairs          2.171289"
      ]
     },
     "execution_count": 30,
     "metadata": {},
     "output_type": "execute_result"
    }
   ],
   "source": [
    "#k = pd.concat([df.drop(['state'],axis=1),pd.get_dummies(df['state'])],axis=1)\n",
    "# X = k.drop(['New Jersey', 'New York', 'Michigan', 'New Hampshire', 'Pennsylvania',\n",
    "#        'Wisconsin', 'California','Arizona','Nevada','Name','AdultWeekend'],axis=1)\n",
    "# X = k.drop(['Tennessee', 'New York', 'Michigan', 'California', 'Pennsylvania','Utah',\n",
    "#             'Name','AdultWeekend','AdultWeekday'],axis=1)\n",
    "X = df.drop(['Name','AdultWeekend','AdultWeekday','state'],axis=1)\n",
    "scaler = preprocessing.StandardScaler().fit(X)\n",
    "X_scaled=scaler.transform(X) \n",
    "y = k.AdultWeekend \n",
    "y = k['AdultWeekend'].ravel()\n",
    "X_train,X_test,y_train,y_test = train_test_split(X_scaled,y, test_size=0.25,random_state=12)\n",
    "# X_train = sm.add_constant(X_train)\n",
    "# model = sm.OLS(y_train,X_train)\n",
    "model = lm.fit(X_train,y_train)\n",
    "df2 = pd.DataFrame(abs(model.coef_),X.columns,columns=['Coefficient'])\n",
    "df2.sort_values(by = 'Coefficient',ascending=False).head(10)"
   ]
  },
  {
   "cell_type": "code",
   "execution_count": 31,
   "metadata": {},
   "outputs": [
    {
     "data": {
      "text/plain": [
       "(0.33019374360608866, 13.10154378976526)"
      ]
     },
     "execution_count": 31,
     "metadata": {},
     "output_type": "execute_result"
    }
   ],
   "source": [
    "y_pred =model.predict(X_test)\n",
    "explained_variance_score(y_test,y_pred), mean_absolute_error(y_test,y_pred)"
   ]
  },
  {
   "cell_type": "code",
   "execution_count": 26,
   "metadata": {
    "scrolled": true
   },
   "outputs": [
    {
     "data": {
      "text/html": [
       "<div>\n",
       "<style scoped>\n",
       "    .dataframe tbody tr th:only-of-type {\n",
       "        vertical-align: middle;\n",
       "    }\n",
       "\n",
       "    .dataframe tbody tr th {\n",
       "        vertical-align: top;\n",
       "    }\n",
       "\n",
       "    .dataframe thead th {\n",
       "        text-align: right;\n",
       "    }\n",
       "</style>\n",
       "<table border=\"1\" class=\"dataframe\">\n",
       "  <thead>\n",
       "    <tr style=\"text-align: right;\">\n",
       "      <th></th>\n",
       "      <th>Coefficient</th>\n",
       "    </tr>\n",
       "  </thead>\n",
       "  <tbody>\n",
       "    <tr>\n",
       "      <th>vertical_drop</th>\n",
       "      <td>8.309728</td>\n",
       "    </tr>\n",
       "    <tr>\n",
       "      <th>Snow Making_ac</th>\n",
       "      <td>6.175149</td>\n",
       "    </tr>\n",
       "    <tr>\n",
       "      <th>SkiableTerrain_ac</th>\n",
       "      <td>5.460195</td>\n",
       "    </tr>\n",
       "    <tr>\n",
       "      <th>Runs</th>\n",
       "      <td>5.400427</td>\n",
       "    </tr>\n",
       "    <tr>\n",
       "      <th>fastQuads</th>\n",
       "      <td>4.174327</td>\n",
       "    </tr>\n",
       "    <tr>\n",
       "      <th>quad</th>\n",
       "      <td>3.591693</td>\n",
       "    </tr>\n",
       "    <tr>\n",
       "      <th>trams</th>\n",
       "      <td>3.095555</td>\n",
       "    </tr>\n",
       "    <tr>\n",
       "      <th>triple</th>\n",
       "      <td>3.091791</td>\n",
       "    </tr>\n",
       "    <tr>\n",
       "      <th>surface</th>\n",
       "      <td>3.022515</td>\n",
       "    </tr>\n",
       "    <tr>\n",
       "      <th>daysOpenLastYear</th>\n",
       "      <td>2.821945</td>\n",
       "    </tr>\n",
       "  </tbody>\n",
       "</table>\n",
       "</div>"
      ],
      "text/plain": [
       "                   Coefficient\n",
       "vertical_drop         8.309728\n",
       "Snow Making_ac        6.175149\n",
       "SkiableTerrain_ac     5.460195\n",
       "Runs                  5.400427\n",
       "fastQuads             4.174327\n",
       "quad                  3.591693\n",
       "trams                 3.095555\n",
       "triple                3.091791\n",
       "surface               3.022515\n",
       "daysOpenLastYear      2.821945"
      ]
     },
     "execution_count": 26,
     "metadata": {},
     "output_type": "execute_result"
    }
   ],
   "source": [
    "X = X.drop(['summit_elev','base_elev'],axis=1)\n",
    "scaler = preprocessing.StandardScaler().fit(X)\n",
    "X_scaled=scaler.transform(X) \n",
    "X_train,X_test,y_train,y_test = train_test_split(X_scaled,y,test_size=0.25,random_state=1)\n",
    "model = lm.fit(X_train,y_train)\n",
    "df2 = pd.DataFrame(abs(model.coef_),X.columns,columns=['Coefficient'])\n",
    "df2.sort_values(by = 'Coefficient',ascending=False).head(10)"
   ]
  },
  {
   "cell_type": "code",
   "execution_count": 27,
   "metadata": {},
   "outputs": [
    {
     "data": {
      "text/plain": [
       "(0.3048384086313497, 14.345420066684458)"
      ]
     },
     "execution_count": 27,
     "metadata": {},
     "output_type": "execute_result"
    }
   ],
   "source": [
    "y_pred =model.predict(X_test)\n",
    "explained_variance_score(y_test,y_pred), mean_absolute_error(y_test,y_pred)"
   ]
  },
  {
   "cell_type": "code",
   "execution_count": 615,
   "metadata": {},
   "outputs": [],
   "source": [
    "df.to_csv('step4.csv')"
   ]
  },
  {
   "cell_type": "code",
   "execution_count": null,
   "metadata": {},
   "outputs": [],
   "source": []
  }
 ],
 "metadata": {
  "colab": {
   "collapsed_sections": [
    "RtEspslPZyGY",
    "s0DokMkAZyGc",
    "2iuitnKcZyHS",
    "iAWQxougZyHW",
    "ThMTimlBZyHZ",
    "QwZ-LkjXZyHt",
    "srtXEA3N4-Y9",
    "ChVreJupZyIA",
    "zDgSSsq1ZyID",
    "I3GYKWfi5Llg",
    "pmMvrhbI-viE",
    "ZXDPkW3UZyIX",
    "Dnc_vHQLZyId",
    "daJxuJ-dZyIg",
    "mAQ-oHiPZyIn",
    "hnGOsp3mZyIp"
   ],
   "name": "GuidedCapstoneStep5.ipynb",
   "provenance": []
  },
  "kernelspec": {
   "display_name": "Python 3",
   "language": "python",
   "name": "python3"
  },
  "language_info": {
   "codemirror_mode": {
    "name": "ipython",
    "version": 3
   },
   "file_extension": ".py",
   "mimetype": "text/x-python",
   "name": "python",
   "nbconvert_exporter": "python",
   "pygments_lexer": "ipython3",
   "version": "3.7.0"
  },
  "toc": {
   "base_numbering": "0",
   "nav_menu": {},
   "number_sections": true,
   "sideBar": true,
   "skip_h1_title": false,
   "title_cell": "Table of Contents",
   "title_sidebar": "Contents",
   "toc_cell": true,
   "toc_position": {
    "height": "calc(100% - 180px)",
    "left": "10px",
    "top": "150px",
    "width": "288px"
   },
   "toc_section_display": true,
   "toc_window_display": true
  }
 },
 "nbformat": 4,
 "nbformat_minor": 4
}
